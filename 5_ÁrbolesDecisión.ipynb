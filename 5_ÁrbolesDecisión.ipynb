{
 "cells": [
  {
   "cell_type": "markdown",
   "metadata": {},
   "source": [
    "# Árboles de Decisión\n",
    "Además de métodos de ensamble\n",
    "\n",
    "### Librerías a utilizar:\n",
    "\n",
    "- C50\n",
    "- caret\n",
    "\n",
    "### ¿Qué es un aŕbol de decisión?\n",
    "Segun Breiman et al. (1984): \n",
    "- Los árboles de decisión corresponden a un técnica de aprendizaje supervisado. Un árbol de decisión actúa como un modelo débil y su funcionamiento se basa en una secuencia de operadores relacionales (ordenados como árbol).\n",
    "- Se basa en la estrategia de divide-conquista\n",
    "- Los nodos hoja están asociados a una clase\n",
    "- Los nodos no hoja están asociados a un operados lógico de una característica (split)\n",
    "- Las variables de entrada y salida pueden ser categóricas o continuas.\n",
    "- Se divide la población o muestra en conjuntos homegéneos basados en la variable de entrada más significativa.\n",
    "\n",
    "![arbol](https://bookdown.org/content/2031/images/decision_tree_explanation.png)\n",
    "\n",
    "\n",
    "### ¿Cómo obtengo esos splits?\n",
    "\n",
    "Necesitamos saber lo que es entropía e información.... \n",
    "\n",
    "![arbol](https://joseantoniomartin.files.wordpress.com/2019/06/que-es-la-entropia.jpg?w=461&h=283)\n",
    "\n",
    "> Entropía de Shannon: Mide la cantidad de información o incerteza que tenemos sobre una variable aleatoria (VA).\n",
    "\n",
    ">La teoría de la información es una medida para definir este grado de desorganización en un sistema denominado como Entropía.\n",
    "\n",
    "La entropía para el lanzamiento de una moneda seria:\n",
    "\n",
    "$$\n",
    "H = - p \\cdot log(p) - (1 - p) \\cdot log(1 - p)\n",
    "$$\n",
    "\n",
    "Para un conjunto de datos de $y$ etiquetas y $D$ muestras en el entrenamiento, se define la entropia como:\n",
    "\n",
    "$$ H(D) = - \\sum_{y \\in Y} P(y|D) \\cdot log P(y|D)$$\n",
    "\n",
    "Ademas se debe calcular la ganancia de informacion (reduccion de entropia):\n",
    "\n",
    "$$ G(D; D_1, ..., D_k) = H(D) - \\sum^k_{i=1} \\frac{|D_i|}{|D|} H(D_k) $$\n",
    "\n",
    "Entonces:\n",
    "- Calcule la entropía del nodo padre\n",
    "- Calcule la entropía de cada nodo individual de la división\n",
    "- Calcule el promedio ponderado de todos los subnodos disponibles en la división.\n",
    "\n",
    "\n",
    "### ¿Cuando se detiene el algoritmo del árbol de decisión?\n",
    "- Nodos puros\n",
    "- Profundidad indicada por el usuario; mientras más profundo es el árbol mayor es su complejidad"
   ]
  },
  {
   "cell_type": "code",
   "execution_count": 27,
   "metadata": {},
   "outputs": [],
   "source": [
    "library(\"C50\")\n",
    "library(\"caret\")\n",
    "library(\"ggpubr\")"
   ]
  },
  {
   "cell_type": "code",
   "execution_count": 9,
   "metadata": {},
   "outputs": [],
   "source": [
    "columns = c(\"area\", \"perimeter\", \"compactness\", \"length\", \"width\", \"AC\", \"lengthGroove\", \"class\")\n",
    "url = \"https://www.dl.dropboxusercontent.com/s/wrexlo5im3g5ioi/seeds_dataset.csv\"\n",
    "seeds = read.csv(url, header = F, sep=\",\", col.names = columns)\n",
    "seeds$class = factor(seeds$class, levels = c(1,2,3), labels = c(\"Kama\", \"Rosa\", \"Canadian\"))"
   ]
  },
  {
   "cell_type": "code",
   "execution_count": 11,
   "metadata": {},
   "outputs": [],
   "source": [
    "training.index = createDataPartition(seeds$class, p=0.7)$Resample1\n",
    "training.set = seeds[training.index, ]\n",
    "test.set = seeds[-training.index, ]"
   ]
  },
  {
   "cell_type": "code",
   "execution_count": 13,
   "metadata": {},
   "outputs": [
    {
     "data": {
      "text/html": [
       "<table>\n",
       "<thead><tr><th></th><th scope=col>area</th><th scope=col>perimeter</th><th scope=col>compactness</th><th scope=col>length</th><th scope=col>width</th><th scope=col>AC</th><th scope=col>lengthGroove</th><th scope=col>class</th></tr></thead>\n",
       "<tbody>\n",
       "\t<tr><th scope=row>1</th><td>15.26 </td><td>14.84 </td><td>0.8710</td><td>5.763 </td><td>3.312 </td><td>2.221 </td><td>5.220 </td><td>Kama  </td></tr>\n",
       "\t<tr><th scope=row>3</th><td>14.29 </td><td>14.09 </td><td>0.9050</td><td>5.291 </td><td>3.337 </td><td>2.699 </td><td>4.825 </td><td>Kama  </td></tr>\n",
       "\t<tr><th scope=row>4</th><td>13.84 </td><td>13.94 </td><td>0.8955</td><td>5.324 </td><td>3.379 </td><td>2.259 </td><td>4.805 </td><td>Kama  </td></tr>\n",
       "\t<tr><th scope=row>5</th><td>16.14 </td><td>14.99 </td><td>0.9034</td><td>5.658 </td><td>3.562 </td><td>1.355 </td><td>5.175 </td><td>Kama  </td></tr>\n",
       "\t<tr><th scope=row>7</th><td>14.69 </td><td>14.49 </td><td>0.8799</td><td>5.563 </td><td>3.259 </td><td>3.586 </td><td>5.219 </td><td>Kama  </td></tr>\n",
       "\t<tr><th scope=row>8</th><td>14.11 </td><td>14.10 </td><td>0.8911</td><td>5.420 </td><td>3.302 </td><td>2.700 </td><td>5.000 </td><td>Kama  </td></tr>\n",
       "</tbody>\n",
       "</table>\n"
      ],
      "text/latex": [
       "\\begin{tabular}{r|llllllll}\n",
       "  & area & perimeter & compactness & length & width & AC & lengthGroove & class\\\\\n",
       "\\hline\n",
       "\t1 & 15.26  & 14.84  & 0.8710 & 5.763  & 3.312  & 2.221  & 5.220  & Kama  \\\\\n",
       "\t3 & 14.29  & 14.09  & 0.9050 & 5.291  & 3.337  & 2.699  & 4.825  & Kama  \\\\\n",
       "\t4 & 13.84  & 13.94  & 0.8955 & 5.324  & 3.379  & 2.259  & 4.805  & Kama  \\\\\n",
       "\t5 & 16.14  & 14.99  & 0.9034 & 5.658  & 3.562  & 1.355  & 5.175  & Kama  \\\\\n",
       "\t7 & 14.69  & 14.49  & 0.8799 & 5.563  & 3.259  & 3.586  & 5.219  & Kama  \\\\\n",
       "\t8 & 14.11  & 14.10  & 0.8911 & 5.420  & 3.302  & 2.700  & 5.000  & Kama  \\\\\n",
       "\\end{tabular}\n"
      ],
      "text/markdown": [
       "\n",
       "| <!--/--> | area | perimeter | compactness | length | width | AC | lengthGroove | class |\n",
       "|---|---|---|---|---|---|---|---|---|\n",
       "| 1 | 15.26  | 14.84  | 0.8710 | 5.763  | 3.312  | 2.221  | 5.220  | Kama   |\n",
       "| 3 | 14.29  | 14.09  | 0.9050 | 5.291  | 3.337  | 2.699  | 4.825  | Kama   |\n",
       "| 4 | 13.84  | 13.94  | 0.8955 | 5.324  | 3.379  | 2.259  | 4.805  | Kama   |\n",
       "| 5 | 16.14  | 14.99  | 0.9034 | 5.658  | 3.562  | 1.355  | 5.175  | Kama   |\n",
       "| 7 | 14.69  | 14.49  | 0.8799 | 5.563  | 3.259  | 3.586  | 5.219  | Kama   |\n",
       "| 8 | 14.11  | 14.10  | 0.8911 | 5.420  | 3.302  | 2.700  | 5.000  | Kama   |\n",
       "\n"
      ],
      "text/plain": [
       "  area  perimeter compactness length width AC    lengthGroove class\n",
       "1 15.26 14.84     0.8710      5.763  3.312 2.221 5.220        Kama \n",
       "3 14.29 14.09     0.9050      5.291  3.337 2.699 4.825        Kama \n",
       "4 13.84 13.94     0.8955      5.324  3.379 2.259 4.805        Kama \n",
       "5 16.14 14.99     0.9034      5.658  3.562 1.355 5.175        Kama \n",
       "7 14.69 14.49     0.8799      5.563  3.259 3.586 5.219        Kama \n",
       "8 14.11 14.10     0.8911      5.420  3.302 2.700 5.000        Kama "
      ]
     },
     "metadata": {},
     "output_type": "display_data"
    }
   ],
   "source": [
    "head(training.set)"
   ]
  },
  {
   "cell_type": "code",
   "execution_count": 14,
   "metadata": {},
   "outputs": [
    {
     "data": {
      "text/html": [
       "<table>\n",
       "<thead><tr><th></th><th scope=col>area</th><th scope=col>perimeter</th><th scope=col>compactness</th><th scope=col>length</th><th scope=col>width</th><th scope=col>AC</th><th scope=col>lengthGroove</th><th scope=col>class</th></tr></thead>\n",
       "<tbody>\n",
       "\t<tr><th scope=row>2</th><td>14.88 </td><td>14.57 </td><td>0.8811</td><td>5.554 </td><td>3.333 </td><td>1.018 </td><td>4.956 </td><td>Kama  </td></tr>\n",
       "\t<tr><th scope=row>6</th><td>14.38 </td><td>14.21 </td><td>0.8951</td><td>5.386 </td><td>3.312 </td><td>2.462 </td><td>4.956 </td><td>Kama  </td></tr>\n",
       "\t<tr><th scope=row>9</th><td>16.63 </td><td>15.46 </td><td>0.8747</td><td>6.053 </td><td>3.465 </td><td>2.040 </td><td>5.877 </td><td>Kama  </td></tr>\n",
       "\t<tr><th scope=row>12</th><td>14.03 </td><td>14.16 </td><td>0.8796</td><td>5.438 </td><td>3.201 </td><td>1.717 </td><td>5.001 </td><td>Kama  </td></tr>\n",
       "\t<tr><th scope=row>14</th><td>13.78 </td><td>14.06 </td><td>0.8759</td><td>5.479 </td><td>3.156 </td><td>3.136 </td><td>4.872 </td><td>Kama  </td></tr>\n",
       "\t<tr><th scope=row>18</th><td>15.69 </td><td>14.75 </td><td>0.9058</td><td>5.527 </td><td>3.514 </td><td>1.599 </td><td>5.046 </td><td>Kama  </td></tr>\n",
       "</tbody>\n",
       "</table>\n"
      ],
      "text/latex": [
       "\\begin{tabular}{r|llllllll}\n",
       "  & area & perimeter & compactness & length & width & AC & lengthGroove & class\\\\\n",
       "\\hline\n",
       "\t2 & 14.88  & 14.57  & 0.8811 & 5.554  & 3.333  & 1.018  & 4.956  & Kama  \\\\\n",
       "\t6 & 14.38  & 14.21  & 0.8951 & 5.386  & 3.312  & 2.462  & 4.956  & Kama  \\\\\n",
       "\t9 & 16.63  & 15.46  & 0.8747 & 6.053  & 3.465  & 2.040  & 5.877  & Kama  \\\\\n",
       "\t12 & 14.03  & 14.16  & 0.8796 & 5.438  & 3.201  & 1.717  & 5.001  & Kama  \\\\\n",
       "\t14 & 13.78  & 14.06  & 0.8759 & 5.479  & 3.156  & 3.136  & 4.872  & Kama  \\\\\n",
       "\t18 & 15.69  & 14.75  & 0.9058 & 5.527  & 3.514  & 1.599  & 5.046  & Kama  \\\\\n",
       "\\end{tabular}\n"
      ],
      "text/markdown": [
       "\n",
       "| <!--/--> | area | perimeter | compactness | length | width | AC | lengthGroove | class |\n",
       "|---|---|---|---|---|---|---|---|---|\n",
       "| 2 | 14.88  | 14.57  | 0.8811 | 5.554  | 3.333  | 1.018  | 4.956  | Kama   |\n",
       "| 6 | 14.38  | 14.21  | 0.8951 | 5.386  | 3.312  | 2.462  | 4.956  | Kama   |\n",
       "| 9 | 16.63  | 15.46  | 0.8747 | 6.053  | 3.465  | 2.040  | 5.877  | Kama   |\n",
       "| 12 | 14.03  | 14.16  | 0.8796 | 5.438  | 3.201  | 1.717  | 5.001  | Kama   |\n",
       "| 14 | 13.78  | 14.06  | 0.8759 | 5.479  | 3.156  | 3.136  | 4.872  | Kama   |\n",
       "| 18 | 15.69  | 14.75  | 0.9058 | 5.527  | 3.514  | 1.599  | 5.046  | Kama   |\n",
       "\n"
      ],
      "text/plain": [
       "   area  perimeter compactness length width AC    lengthGroove class\n",
       "2  14.88 14.57     0.8811      5.554  3.333 1.018 4.956        Kama \n",
       "6  14.38 14.21     0.8951      5.386  3.312 2.462 4.956        Kama \n",
       "9  16.63 15.46     0.8747      6.053  3.465 2.040 5.877        Kama \n",
       "12 14.03 14.16     0.8796      5.438  3.201 1.717 5.001        Kama \n",
       "14 13.78 14.06     0.8759      5.479  3.156 3.136 4.872        Kama \n",
       "18 15.69 14.75     0.9058      5.527  3.514 1.599 5.046        Kama "
      ]
     },
     "metadata": {},
     "output_type": "display_data"
    }
   ],
   "source": [
    "head(test.set)"
   ]
  },
  {
   "cell_type": "code",
   "execution_count": 15,
   "metadata": {},
   "outputs": [],
   "source": [
    "tree = C5.0(class ~ ., training.set)\n",
    "tree.rules = C5.0(x = training.set[, -8], y = training.set$class, rules = T)\n",
    "tree.pred.class = predict(tree, test.set[,-8], type = \"class\")\n",
    "tree.pred.prob = predict(tree, test.set[,-8], type = \"prob\")"
   ]
  },
  {
   "cell_type": "code",
   "execution_count": 16,
   "metadata": {},
   "outputs": [
    {
     "data": {
      "text/html": [
       "<ol class=list-inline>\n",
       "\t<li>Kama</li>\n",
       "\t<li>Kama</li>\n",
       "\t<li>Rosa</li>\n",
       "\t<li>Kama</li>\n",
       "\t<li>Kama</li>\n",
       "\t<li>Kama</li>\n",
       "\t<li>Canadian</li>\n",
       "\t<li>Kama</li>\n",
       "\t<li>Kama</li>\n",
       "\t<li>Canadian</li>\n",
       "\t<li>Kama</li>\n",
       "\t<li>Kama</li>\n",
       "\t<li>Kama</li>\n",
       "\t<li>Kama</li>\n",
       "\t<li>Kama</li>\n",
       "\t<li>Kama</li>\n",
       "\t<li>Kama</li>\n",
       "\t<li>Kama</li>\n",
       "\t<li>Kama</li>\n",
       "\t<li>Canadian</li>\n",
       "\t<li>Kama</li>\n",
       "\t<li>Rosa</li>\n",
       "\t<li>Rosa</li>\n",
       "\t<li>Rosa</li>\n",
       "\t<li>Rosa</li>\n",
       "\t<li>Rosa</li>\n",
       "\t<li>Rosa</li>\n",
       "\t<li>Rosa</li>\n",
       "\t<li>Rosa</li>\n",
       "\t<li>Rosa</li>\n",
       "\t<li>Rosa</li>\n",
       "\t<li>Rosa</li>\n",
       "\t<li>Rosa</li>\n",
       "\t<li>Rosa</li>\n",
       "\t<li>Rosa</li>\n",
       "\t<li>Rosa</li>\n",
       "\t<li>Kama</li>\n",
       "\t<li>Rosa</li>\n",
       "\t<li>Rosa</li>\n",
       "\t<li>Rosa</li>\n",
       "\t<li>Rosa</li>\n",
       "\t<li>Rosa</li>\n",
       "\t<li>Canadian</li>\n",
       "\t<li>Canadian</li>\n",
       "\t<li>Canadian</li>\n",
       "\t<li>Canadian</li>\n",
       "\t<li>Canadian</li>\n",
       "\t<li>Canadian</li>\n",
       "\t<li>Canadian</li>\n",
       "\t<li>Canadian</li>\n",
       "\t<li>Canadian</li>\n",
       "\t<li>Canadian</li>\n",
       "\t<li>Canadian</li>\n",
       "\t<li>Canadian</li>\n",
       "\t<li>Canadian</li>\n",
       "\t<li>Canadian</li>\n",
       "\t<li>Canadian</li>\n",
       "\t<li>Canadian</li>\n",
       "\t<li>Canadian</li>\n",
       "\t<li>Canadian</li>\n",
       "\t<li>Canadian</li>\n",
       "\t<li>Canadian</li>\n",
       "\t<li>Canadian</li>\n",
       "</ol>\n",
       "\n",
       "<details>\n",
       "\t<summary style=display:list-item;cursor:pointer>\n",
       "\t\t<strong>Levels</strong>:\n",
       "\t</summary>\n",
       "\t<ol class=list-inline>\n",
       "\t\t<li>'Kama'</li>\n",
       "\t\t<li>'Rosa'</li>\n",
       "\t\t<li>'Canadian'</li>\n",
       "\t</ol>\n",
       "</details>"
      ],
      "text/latex": [
       "\\begin{enumerate*}\n",
       "\\item Kama\n",
       "\\item Kama\n",
       "\\item Rosa\n",
       "\\item Kama\n",
       "\\item Kama\n",
       "\\item Kama\n",
       "\\item Canadian\n",
       "\\item Kama\n",
       "\\item Kama\n",
       "\\item Canadian\n",
       "\\item Kama\n",
       "\\item Kama\n",
       "\\item Kama\n",
       "\\item Kama\n",
       "\\item Kama\n",
       "\\item Kama\n",
       "\\item Kama\n",
       "\\item Kama\n",
       "\\item Kama\n",
       "\\item Canadian\n",
       "\\item Kama\n",
       "\\item Rosa\n",
       "\\item Rosa\n",
       "\\item Rosa\n",
       "\\item Rosa\n",
       "\\item Rosa\n",
       "\\item Rosa\n",
       "\\item Rosa\n",
       "\\item Rosa\n",
       "\\item Rosa\n",
       "\\item Rosa\n",
       "\\item Rosa\n",
       "\\item Rosa\n",
       "\\item Rosa\n",
       "\\item Rosa\n",
       "\\item Rosa\n",
       "\\item Kama\n",
       "\\item Rosa\n",
       "\\item Rosa\n",
       "\\item Rosa\n",
       "\\item Rosa\n",
       "\\item Rosa\n",
       "\\item Canadian\n",
       "\\item Canadian\n",
       "\\item Canadian\n",
       "\\item Canadian\n",
       "\\item Canadian\n",
       "\\item Canadian\n",
       "\\item Canadian\n",
       "\\item Canadian\n",
       "\\item Canadian\n",
       "\\item Canadian\n",
       "\\item Canadian\n",
       "\\item Canadian\n",
       "\\item Canadian\n",
       "\\item Canadian\n",
       "\\item Canadian\n",
       "\\item Canadian\n",
       "\\item Canadian\n",
       "\\item Canadian\n",
       "\\item Canadian\n",
       "\\item Canadian\n",
       "\\item Canadian\n",
       "\\end{enumerate*}\n",
       "\n",
       "\\emph{Levels}: \\begin{enumerate*}\n",
       "\\item 'Kama'\n",
       "\\item 'Rosa'\n",
       "\\item 'Canadian'\n",
       "\\end{enumerate*}\n"
      ],
      "text/markdown": [
       "1. Kama\n",
       "2. Kama\n",
       "3. Rosa\n",
       "4. Kama\n",
       "5. Kama\n",
       "6. Kama\n",
       "7. Canadian\n",
       "8. Kama\n",
       "9. Kama\n",
       "10. Canadian\n",
       "11. Kama\n",
       "12. Kama\n",
       "13. Kama\n",
       "14. Kama\n",
       "15. Kama\n",
       "16. Kama\n",
       "17. Kama\n",
       "18. Kama\n",
       "19. Kama\n",
       "20. Canadian\n",
       "21. Kama\n",
       "22. Rosa\n",
       "23. Rosa\n",
       "24. Rosa\n",
       "25. Rosa\n",
       "26. Rosa\n",
       "27. Rosa\n",
       "28. Rosa\n",
       "29. Rosa\n",
       "30. Rosa\n",
       "31. Rosa\n",
       "32. Rosa\n",
       "33. Rosa\n",
       "34. Rosa\n",
       "35. Rosa\n",
       "36. Rosa\n",
       "37. Kama\n",
       "38. Rosa\n",
       "39. Rosa\n",
       "40. Rosa\n",
       "41. Rosa\n",
       "42. Rosa\n",
       "43. Canadian\n",
       "44. Canadian\n",
       "45. Canadian\n",
       "46. Canadian\n",
       "47. Canadian\n",
       "48. Canadian\n",
       "49. Canadian\n",
       "50. Canadian\n",
       "51. Canadian\n",
       "52. Canadian\n",
       "53. Canadian\n",
       "54. Canadian\n",
       "55. Canadian\n",
       "56. Canadian\n",
       "57. Canadian\n",
       "58. Canadian\n",
       "59. Canadian\n",
       "60. Canadian\n",
       "61. Canadian\n",
       "62. Canadian\n",
       "63. Canadian\n",
       "\n",
       "\n",
       "\n",
       "**Levels**: 1. 'Kama'\n",
       "2. 'Rosa'\n",
       "3. 'Canadian'\n",
       "\n",
       "\n"
      ],
      "text/plain": [
       " [1] Kama     Kama     Rosa     Kama     Kama     Kama     Canadian Kama    \n",
       " [9] Kama     Canadian Kama     Kama     Kama     Kama     Kama     Kama    \n",
       "[17] Kama     Kama     Kama     Canadian Kama     Rosa     Rosa     Rosa    \n",
       "[25] Rosa     Rosa     Rosa     Rosa     Rosa     Rosa     Rosa     Rosa    \n",
       "[33] Rosa     Rosa     Rosa     Rosa     Kama     Rosa     Rosa     Rosa    \n",
       "[41] Rosa     Rosa     Canadian Canadian Canadian Canadian Canadian Canadian\n",
       "[49] Canadian Canadian Canadian Canadian Canadian Canadian Canadian Canadian\n",
       "[57] Canadian Canadian Canadian Canadian Canadian Canadian Canadian\n",
       "Levels: Kama Rosa Canadian"
      ]
     },
     "metadata": {},
     "output_type": "display_data"
    }
   ],
   "source": [
    "tree.pred.class"
   ]
  },
  {
   "cell_type": "code",
   "execution_count": 17,
   "metadata": {},
   "outputs": [
    {
     "data": {
      "text/html": [
       "<table>\n",
       "<thead><tr><th></th><th scope=col>Kama</th><th scope=col>Rosa</th><th scope=col>Canadian</th></tr></thead>\n",
       "<tbody>\n",
       "\t<tr><th scope=row>2</th><td>0.958333333</td><td>0.03333333 </td><td>0.008333334</td></tr>\n",
       "\t<tr><th scope=row>6</th><td>0.958333333</td><td>0.03333333 </td><td>0.008333334</td></tr>\n",
       "\t<tr><th scope=row>9</th><td>0.006802721</td><td>0.98639456 </td><td>0.006802721</td></tr>\n",
       "\t<tr><th scope=row>12</th><td>0.958333333</td><td>0.03333333 </td><td>0.008333334</td></tr>\n",
       "\t<tr><th scope=row>14</th><td>0.958333333</td><td>0.03333333 </td><td>0.008333334</td></tr>\n",
       "\t<tr><th scope=row>18</th><td>0.958333333</td><td>0.03333333 </td><td>0.008333334</td></tr>\n",
       "</tbody>\n",
       "</table>\n"
      ],
      "text/latex": [
       "\\begin{tabular}{r|lll}\n",
       "  & Kama & Rosa & Canadian\\\\\n",
       "\\hline\n",
       "\t2 & 0.958333333 & 0.03333333  & 0.008333334\\\\\n",
       "\t6 & 0.958333333 & 0.03333333  & 0.008333334\\\\\n",
       "\t9 & 0.006802721 & 0.98639456  & 0.006802721\\\\\n",
       "\t12 & 0.958333333 & 0.03333333  & 0.008333334\\\\\n",
       "\t14 & 0.958333333 & 0.03333333  & 0.008333334\\\\\n",
       "\t18 & 0.958333333 & 0.03333333  & 0.008333334\\\\\n",
       "\\end{tabular}\n"
      ],
      "text/markdown": [
       "\n",
       "| <!--/--> | Kama | Rosa | Canadian |\n",
       "|---|---|---|---|\n",
       "| 2 | 0.958333333 | 0.03333333  | 0.008333334 |\n",
       "| 6 | 0.958333333 | 0.03333333  | 0.008333334 |\n",
       "| 9 | 0.006802721 | 0.98639456  | 0.006802721 |\n",
       "| 12 | 0.958333333 | 0.03333333  | 0.008333334 |\n",
       "| 14 | 0.958333333 | 0.03333333  | 0.008333334 |\n",
       "| 18 | 0.958333333 | 0.03333333  | 0.008333334 |\n",
       "\n"
      ],
      "text/plain": [
       "   Kama        Rosa       Canadian   \n",
       "2  0.958333333 0.03333333 0.008333334\n",
       "6  0.958333333 0.03333333 0.008333334\n",
       "9  0.006802721 0.98639456 0.006802721\n",
       "12 0.958333333 0.03333333 0.008333334\n",
       "14 0.958333333 0.03333333 0.008333334\n",
       "18 0.958333333 0.03333333 0.008333334"
      ]
     },
     "metadata": {},
     "output_type": "display_data"
    }
   ],
   "source": [
    "head(tree.pred.prob)"
   ]
  },
  {
   "cell_type": "code",
   "execution_count": 18,
   "metadata": {},
   "outputs": [
    {
     "data": {
      "text/plain": [
       "\n",
       "Call:\n",
       "C5.0.formula(formula = class ~ ., data = training.set)\n",
       "\n",
       "\n",
       "C5.0 [Release 2.07 GPL Edition]  \tThu Jan  7 23:11:47 2021\n",
       "-------------------------------\n",
       "\n",
       "Class specified by attribute `outcome'\n",
       "\n",
       "Read 147 cases (8 attributes) from undefined.data\n",
       "\n",
       "Decision tree:\n",
       "\n",
       "lengthGroove > 5.533: Rosa (48)\n",
       "lengthGroove <= 5.533:\n",
       ":...area > 13.37: Kama (39/1)\n",
       "    area <= 13.37:\n",
       "    :...AC > 3.533: Canadian (44/1)\n",
       "        AC <= 3.533:\n",
       "        :...lengthGroove <= 4.703: Kama (5)\n",
       "            lengthGroove > 4.703:\n",
       "            :...area <= 12.89: Canadian (8/2)\n",
       "                area > 12.89: Kama (3)\n",
       "\n",
       "\n",
       "Evaluation on training data (147 cases):\n",
       "\n",
       "\t    Decision Tree   \n",
       "\t  ----------------  \n",
       "\t  Size      Errors  \n",
       "\n",
       "\t     6    4( 2.7%)   <<\n",
       "\n",
       "\n",
       "\t   (a)   (b)   (c)    <-classified as\n",
       "\t  ----  ----  ----\n",
       "\t    46           3    (a): class Kama\n",
       "\t     1    48          (b): class Rosa\n",
       "\t                49    (c): class Canadian\n",
       "\n",
       "\n",
       "\tAttribute usage:\n",
       "\n",
       "\t100.00%\tlengthGroove\n",
       "\t 67.35%\tarea\n",
       "\t 40.82%\tAC\n",
       "\n",
       "\n",
       "Time: 0.0 secs\n"
      ]
     },
     "metadata": {},
     "output_type": "display_data"
    },
    {
     "data": {
      "image/png": "[encoded data removed]",
      "text/plain": [
       "plot without title"
      ]
     },
     "metadata": {},
     "output_type": "display_data"
    }
   ],
   "source": [
    "plot(tree)\n",
    "summary(tree)"
   ]
  },
  {
   "cell_type": "code",
   "execution_count": 19,
   "metadata": {},
   "outputs": [
    {
     "data": {
      "text/plain": [
       "\n",
       "Call:\n",
       "C5.0.default(x = training.set[, -8], y = training.set$class, rules = T)\n",
       "\n",
       "\n",
       "C5.0 [Release 2.07 GPL Edition]  \tThu Jan  7 23:11:47 2021\n",
       "-------------------------------\n",
       "\n",
       "Class specified by attribute `outcome'\n",
       "\n",
       "Read 147 cases (8 attributes) from undefined.data\n",
       "\n",
       "Rules:\n",
       "\n",
       "Rule 1: (31, lift 2.9)\n",
       "\tarea > 12.89\n",
       "\tAC <= 3.533\n",
       "\tlengthGroove <= 5.533\n",
       "\t->  class Kama  [0.970]\n",
       "\n",
       "Rule 2: (39/1, lift 2.9)\n",
       "\tarea > 13.37\n",
       "\tlengthGroove <= 5.533\n",
       "\t->  class Kama  [0.951]\n",
       "\n",
       "Rule 3: (6, lift 2.6)\n",
       "\tlengthGroove <= 4.703\n",
       "\t->  class Kama  [0.875]\n",
       "\n",
       "Rule 4: (48, lift 2.9)\n",
       "\tlengthGroove > 5.533\n",
       "\t->  class Rosa  [0.980]\n",
       "\n",
       "Rule 5: (44/1, lift 2.9)\n",
       "\tarea <= 13.37\n",
       "\tAC > 3.533\n",
       "\t->  class Canadian  [0.957]\n",
       "\n",
       "Rule 6: (46/2, lift 2.8)\n",
       "\tarea <= 12.89\n",
       "\tlengthGroove > 4.703\n",
       "\t->  class Canadian  [0.938]\n",
       "\n",
       "Default class: Kama\n",
       "\n",
       "\n",
       "Evaluation on training data (147 cases):\n",
       "\n",
       "\t        Rules     \n",
       "\t  ----------------\n",
       "\t    No      Errors\n",
       "\n",
       "\t     6    4( 2.7%)   <<\n",
       "\n",
       "\n",
       "\t   (a)   (b)   (c)    <-classified as\n",
       "\t  ----  ----  ----\n",
       "\t    46           3    (a): class Kama\n",
       "\t     1    48          (b): class Rosa\n",
       "\t                49    (c): class Canadian\n",
       "\n",
       "\n",
       "\tAttribute usage:\n",
       "\n",
       "\t 95.92%\tlengthGroove\n",
       "\t 63.95%\tarea\n",
       "\t 51.02%\tAC\n",
       "\n",
       "\n",
       "Time: 0.0 secs\n"
      ]
     },
     "metadata": {},
     "output_type": "display_data"
    }
   ],
   "source": [
    "summary(tree.rules)"
   ]
  },
  {
   "cell_type": "code",
   "execution_count": 20,
   "metadata": {},
   "outputs": [
    {
     "name": "stdout",
     "output_type": "stream",
     "text": [
      "Confusion Matrix and Statistics\n",
      "\n",
      "          tree.pred.class\n",
      "           Kama Rosa Canadian\n",
      "  Kama       17    1        3\n",
      "  Rosa        1   20        0\n",
      "  Canadian    0    0       21\n",
      "\n",
      "Overall Statistics\n",
      "                                          \n",
      "               Accuracy : 0,9206          \n",
      "                 95% CI : (0,8244, 0,9737)\n",
      "    No Information Rate : 0,381           \n",
      "    P-Value [Acc > NIR] : < 2,2e-16       \n",
      "                                          \n",
      "                  Kappa : 0,881           \n",
      "                                          \n",
      " Mcnemar's Test P-Value : NA              \n",
      "\n",
      "Statistics by Class:\n",
      "\n",
      "                     Class: Kama Class: Rosa Class: Canadian\n",
      "Sensitivity               0,9444      0,9524          0,8750\n",
      "Specificity               0,9111      0,9762          1,0000\n",
      "Pos Pred Value            0,8095      0,9524          1,0000\n",
      "Neg Pred Value            0,9762      0,9762          0,9286\n",
      "Prevalence                0,2857      0,3333          0,3810\n",
      "Detection Rate            0,2698      0,3175          0,3333\n",
      "Detection Prevalence      0,3333      0,3333          0,3333\n",
      "Balanced Accuracy         0,9278      0,9643          0,9375\n"
     ]
    }
   ],
   "source": [
    "conf.matrix.tree = confusionMatrix(table(test.set$class, tree.pred.class))\n",
    "print(conf.matrix.tree)"
   ]
  },
  {
   "cell_type": "markdown",
   "metadata": {},
   "source": [
    "# ¿Cómo mejoro los resultados?\n",
    "- Mejorar training set (remuestreo, SMOTE, etc)\n",
    "- Ensambles (bagging, boosting)\n",
    "- Tener árboles con distintas características (después jugar)\n",
    "\n",
    "Spoiler: La combinacion de algunas cosas de arriba provocan un random forest"
   ]
  },
  {
   "cell_type": "code",
   "execution_count": 21,
   "metadata": {},
   "outputs": [
    {
     "name": "stderr",
     "output_type": "stream",
     "text": [
      "randomForest 4.6-14\n",
      "Type rfNews() to see new features/changes/bug fixes.\n",
      "\n",
      "Attaching package: ‘randomForest’\n",
      "\n",
      "The following object is masked from ‘package:ggplot2’:\n",
      "\n",
      "    margin\n",
      "\n"
     ]
    }
   ],
   "source": [
    "library(randomForest)"
   ]
  },
  {
   "cell_type": "code",
   "execution_count": 36,
   "metadata": {},
   "outputs": [],
   "source": [
    "rf = randomForest(class~ ., data=training.set, ntree = 500, importance=TRUE, proximity=TRUE, ntry=10)\n",
    "rf.pred.class = predict(rf, test.set[,-8], type = \"class\")"
   ]
  },
  {
   "cell_type": "code",
   "execution_count": 37,
   "metadata": {},
   "outputs": [
    {
     "name": "stdout",
     "output_type": "stream",
     "text": [
      "Confusion Matrix and Statistics\n",
      "\n",
      "          rf.pred.class\n",
      "           Kama Rosa Canadian\n",
      "  Kama       19    1        1\n",
      "  Rosa        1   20        0\n",
      "  Canadian    1    0       20\n",
      "\n",
      "Overall Statistics\n",
      "                                          \n",
      "               Accuracy : 0,9365          \n",
      "                 95% CI : (0,8453, 0,9824)\n",
      "    No Information Rate : 0,3333          \n",
      "    P-Value [Acc > NIR] : < 2,2e-16       \n",
      "                                          \n",
      "                  Kappa : 0,9048          \n",
      "                                          \n",
      " Mcnemar's Test P-Value : NA              \n",
      "\n",
      "Statistics by Class:\n",
      "\n",
      "                     Class: Kama Class: Rosa Class: Canadian\n",
      "Sensitivity               0,9048      0,9524          0,9524\n",
      "Specificity               0,9524      0,9762          0,9762\n",
      "Pos Pred Value            0,9048      0,9524          0,9524\n",
      "Neg Pred Value            0,9524      0,9762          0,9762\n",
      "Prevalence                0,3333      0,3333          0,3333\n",
      "Detection Rate            0,3016      0,3175          0,3175\n",
      "Detection Prevalence      0,3333      0,3333          0,3333\n",
      "Balanced Accuracy         0,9286      0,9643          0,9643\n"
     ]
    }
   ],
   "source": [
    "conf.matrix.rf = confusionMatrix(table(test.set$class, rf.pred.class))\n",
    "print(conf.matrix.rf)"
   ]
  },
  {
   "cell_type": "code",
   "execution_count": 38,
   "metadata": {},
   "outputs": [
    {
     "data": {
      "text/plain": [
       "                Length Class  Mode     \n",
       "call                7  -none- call     \n",
       "type                1  -none- character\n",
       "predicted         147  factor numeric  \n",
       "err.rate         2000  -none- numeric  \n",
       "confusion          12  -none- numeric  \n",
       "votes             441  matrix numeric  \n",
       "oob.times         147  -none- numeric  \n",
       "classes             3  -none- character\n",
       "importance         35  -none- numeric  \n",
       "importanceSD       28  -none- numeric  \n",
       "localImportance     0  -none- NULL     \n",
       "proximity       21609  -none- numeric  \n",
       "ntree               1  -none- numeric  \n",
       "mtry                1  -none- numeric  \n",
       "forest             14  -none- list     \n",
       "y                 147  factor numeric  \n",
       "test                0  -none- NULL     \n",
       "inbag               0  -none- NULL     \n",
       "terms               3  terms  call     "
      ]
     },
     "metadata": {},
     "output_type": "display_data"
    }
   ],
   "source": [
    "summary(rf)"
   ]
  },
  {
   "cell_type": "code",
   "execution_count": 39,
   "metadata": {},
   "outputs": [
    {
     "data": {
      "text/html": [
       "<table>\n",
       "<thead><tr><th></th><th scope=col>Kama</th><th scope=col>Rosa</th><th scope=col>Canadian</th><th scope=col>MeanDecreaseAccuracy</th><th scope=col>MeanDecreaseGini</th></tr></thead>\n",
       "<tbody>\n",
       "\t<tr><th scope=row>area</th><td>0,08185194   </td><td> 0,1148781094</td><td>0,22806669   </td><td>0,13877544   </td><td>19,420772    </td></tr>\n",
       "\t<tr><th scope=row>perimeter</th><td>0,08695331   </td><td> 0,1122676574</td><td>0,16753571   </td><td>0,12071852   </td><td>18,099480    </td></tr>\n",
       "\t<tr><th scope=row>compactness</th><td>0,01448894   </td><td>-0,0015569208</td><td>0,04945022   </td><td>0,02087637   </td><td> 6,377658    </td></tr>\n",
       "\t<tr><th scope=row>length</th><td>0,03121575   </td><td> 0,0621816020</td><td>0,07407897   </td><td>0,05518270   </td><td>10,504143    </td></tr>\n",
       "\t<tr><th scope=row>width</th><td>0,03185038   </td><td> 0,0307906363</td><td>0,11118415   </td><td>0,05856749   </td><td>10,663223    </td></tr>\n",
       "\t<tr><th scope=row>AC</th><td>0,04147445   </td><td>-0,0002716864</td><td>0,12213529   </td><td>0,05339700   </td><td> 9,613031    </td></tr>\n",
       "\t<tr><th scope=row>lengthGroove</th><td>0,17098051   </td><td> 0,3190636692</td><td>0,10166572   </td><td>0,19487810   </td><td>22,659244    </td></tr>\n",
       "</tbody>\n",
       "</table>\n"
      ],
      "text/latex": [
       "\\begin{tabular}{r|lllll}\n",
       "  & Kama & Rosa & Canadian & MeanDecreaseAccuracy & MeanDecreaseGini\\\\\n",
       "\\hline\n",
       "\tarea & 0,08185194    &  0,1148781094 & 0,22806669    & 0,13877544    & 19,420772    \\\\\n",
       "\tperimeter & 0,08695331    &  0,1122676574 & 0,16753571    & 0,12071852    & 18,099480    \\\\\n",
       "\tcompactness & 0,01448894    & -0,0015569208 & 0,04945022    & 0,02087637    &  6,377658    \\\\\n",
       "\tlength & 0,03121575    &  0,0621816020 & 0,07407897    & 0,05518270    & 10,504143    \\\\\n",
       "\twidth & 0,03185038    &  0,0307906363 & 0,11118415    & 0,05856749    & 10,663223    \\\\\n",
       "\tAC & 0,04147445    & -0,0002716864 & 0,12213529    & 0,05339700    &  9,613031    \\\\\n",
       "\tlengthGroove & 0,17098051    &  0,3190636692 & 0,10166572    & 0,19487810    & 22,659244    \\\\\n",
       "\\end{tabular}\n"
      ],
      "text/markdown": [
       "\n",
       "| <!--/--> | Kama | Rosa | Canadian | MeanDecreaseAccuracy | MeanDecreaseGini |\n",
       "|---|---|---|---|---|---|\n",
       "| area | 0,08185194    |  0,1148781094 | 0,22806669    | 0,13877544    | 19,420772     |\n",
       "| perimeter | 0,08695331    |  0,1122676574 | 0,16753571    | 0,12071852    | 18,099480     |\n",
       "| compactness | 0,01448894    | -0,0015569208 | 0,04945022    | 0,02087637    |  6,377658     |\n",
       "| length | 0,03121575    |  0,0621816020 | 0,07407897    | 0,05518270    | 10,504143     |\n",
       "| width | 0,03185038    |  0,0307906363 | 0,11118415    | 0,05856749    | 10,663223     |\n",
       "| AC | 0,04147445    | -0,0002716864 | 0,12213529    | 0,05339700    |  9,613031     |\n",
       "| lengthGroove | 0,17098051    |  0,3190636692 | 0,10166572    | 0,19487810    | 22,659244     |\n",
       "\n"
      ],
      "text/plain": [
       "             Kama       Rosa          Canadian   MeanDecreaseAccuracy\n",
       "area         0,08185194  0,1148781094 0,22806669 0,13877544          \n",
       "perimeter    0,08695331  0,1122676574 0,16753571 0,12071852          \n",
       "compactness  0,01448894 -0,0015569208 0,04945022 0,02087637          \n",
       "length       0,03121575  0,0621816020 0,07407897 0,05518270          \n",
       "width        0,03185038  0,0307906363 0,11118415 0,05856749          \n",
       "AC           0,04147445 -0,0002716864 0,12213529 0,05339700          \n",
       "lengthGroove 0,17098051  0,3190636692 0,10166572 0,19487810          \n",
       "             MeanDecreaseGini\n",
       "area         19,420772       \n",
       "perimeter    18,099480       \n",
       "compactness   6,377658       \n",
       "length       10,504143       \n",
       "width        10,663223       \n",
       "AC            9,613031       \n",
       "lengthGroove 22,659244       "
      ]
     },
     "metadata": {},
     "output_type": "display_data"
    }
   ],
   "source": [
    "rf$importance"
   ]
  },
  {
   "cell_type": "code",
   "execution_count": 44,
   "metadata": {},
   "outputs": [
    {
     "ename": "ERROR",
     "evalue": "Error in rf$importance$Kama: $ operator is invalid for atomic vectors\n",
     "output_type": "error",
     "traceback": [
      "Error in rf$importance$Kama: $ operator is invalid for atomic vectors\nTraceback:\n",
      "1. ggbarplot(x = rf$importance$Kama, y = rownames(rf$importance))"
     ]
    }
   ],
   "source": [
    "ggbarplot(x = rf$importance$Kama, y = rownames(rf$importance))"
   ]
  },
  {
   "cell_type": "code",
   "execution_count": 43,
   "metadata": {},
   "outputs": [
    {
     "data": {
      "text/html": [
       "<ol class=list-inline>\n",
       "\t<li>'area'</li>\n",
       "\t<li>'perimeter'</li>\n",
       "\t<li>'compactness'</li>\n",
       "\t<li>'length'</li>\n",
       "\t<li>'width'</li>\n",
       "\t<li>'AC'</li>\n",
       "\t<li>'lengthGroove'</li>\n",
       "</ol>\n"
      ],
      "text/latex": [
       "\\begin{enumerate*}\n",
       "\\item 'area'\n",
       "\\item 'perimeter'\n",
       "\\item 'compactness'\n",
       "\\item 'length'\n",
       "\\item 'width'\n",
       "\\item 'AC'\n",
       "\\item 'lengthGroove'\n",
       "\\end{enumerate*}\n"
      ],
      "text/markdown": [
       "1. 'area'\n",
       "2. 'perimeter'\n",
       "3. 'compactness'\n",
       "4. 'length'\n",
       "5. 'width'\n",
       "6. 'AC'\n",
       "7. 'lengthGroove'\n",
       "\n",
       "\n"
      ],
      "text/plain": [
       "[1] \"area\"         \"perimeter\"    \"compactness\"  \"length\"       \"width\"       \n",
       "[6] \"AC\"           \"lengthGroove\""
      ]
     },
     "metadata": {},
     "output_type": "display_data"
    }
   ],
   "source": [
    "rownames(rf$importance)"
   ]
  },
  {
   "cell_type": "code",
   "execution_count": 48,
   "metadata": {},
   "outputs": [
    {
     "data": {
      "text/html": [
       "<table>\n",
       "<thead><tr><th></th><th scope=col>Kama</th><th scope=col>Rosa</th><th scope=col>Canadian</th><th scope=col>MeanDecreaseAccuracy</th></tr></thead>\n",
       "<tbody>\n",
       "\t<tr><th scope=row>area</th><td>0,006675070 </td><td>0,0094690674</td><td>0,011048611 </td><td>0,006290825 </td></tr>\n",
       "\t<tr><th scope=row>perimeter</th><td>0,006451892 </td><td>0,0093036979</td><td>0,009103773 </td><td>0,005928605 </td></tr>\n",
       "\t<tr><th scope=row>compactness</th><td>0,003091819 </td><td>0,0010347380</td><td>0,004479563 </td><td>0,001908236 </td></tr>\n",
       "\t<tr><th scope=row>length</th><td>0,004224127 </td><td>0,0074180292</td><td>0,006582294 </td><td>0,004324065 </td></tr>\n",
       "\t<tr><th scope=row>width</th><td>0,004188964 </td><td>0,0048268424</td><td>0,008513153 </td><td>0,003981251 </td></tr>\n",
       "\t<tr><th scope=row>AC</th><td>0,003272295 </td><td>0,0009974916</td><td>0,006171703 </td><td>0,002549760 </td></tr>\n",
       "\t<tr><th scope=row>lengthGroove</th><td>0,006253196 </td><td>0,0140417048</td><td>0,006822350 </td><td>0,007417937 </td></tr>\n",
       "</tbody>\n",
       "</table>\n"
      ],
      "text/latex": [
       "\\begin{tabular}{r|llll}\n",
       "  & Kama & Rosa & Canadian & MeanDecreaseAccuracy\\\\\n",
       "\\hline\n",
       "\tarea & 0,006675070  & 0,0094690674 & 0,011048611  & 0,006290825 \\\\\n",
       "\tperimeter & 0,006451892  & 0,0093036979 & 0,009103773  & 0,005928605 \\\\\n",
       "\tcompactness & 0,003091819  & 0,0010347380 & 0,004479563  & 0,001908236 \\\\\n",
       "\tlength & 0,004224127  & 0,0074180292 & 0,006582294  & 0,004324065 \\\\\n",
       "\twidth & 0,004188964  & 0,0048268424 & 0,008513153  & 0,003981251 \\\\\n",
       "\tAC & 0,003272295  & 0,0009974916 & 0,006171703  & 0,002549760 \\\\\n",
       "\tlengthGroove & 0,006253196  & 0,0140417048 & 0,006822350  & 0,007417937 \\\\\n",
       "\\end{tabular}\n"
      ],
      "text/markdown": [
       "\n",
       "| <!--/--> | Kama | Rosa | Canadian | MeanDecreaseAccuracy |\n",
       "|---|---|---|---|---|\n",
       "| area | 0,006675070  | 0,0094690674 | 0,011048611  | 0,006290825  |\n",
       "| perimeter | 0,006451892  | 0,0093036979 | 0,009103773  | 0,005928605  |\n",
       "| compactness | 0,003091819  | 0,0010347380 | 0,004479563  | 0,001908236  |\n",
       "| length | 0,004224127  | 0,0074180292 | 0,006582294  | 0,004324065  |\n",
       "| width | 0,004188964  | 0,0048268424 | 0,008513153  | 0,003981251  |\n",
       "| AC | 0,003272295  | 0,0009974916 | 0,006171703  | 0,002549760  |\n",
       "| lengthGroove | 0,006253196  | 0,0140417048 | 0,006822350  | 0,007417937  |\n",
       "\n"
      ],
      "text/plain": [
       "             Kama        Rosa         Canadian    MeanDecreaseAccuracy\n",
       "area         0,006675070 0,0094690674 0,011048611 0,006290825         \n",
       "perimeter    0,006451892 0,0093036979 0,009103773 0,005928605         \n",
       "compactness  0,003091819 0,0010347380 0,004479563 0,001908236         \n",
       "length       0,004224127 0,0074180292 0,006582294 0,004324065         \n",
       "width        0,004188964 0,0048268424 0,008513153 0,003981251         \n",
       "AC           0,003272295 0,0009974916 0,006171703 0,002549760         \n",
       "lengthGroove 0,006253196 0,0140417048 0,006822350 0,007417937         "
      ]
     },
     "metadata": {},
     "output_type": "display_data"
    }
   ],
   "source": [
    "rf$importanceSD"
   ]
  },
  {
   "cell_type": "code",
   "execution_count": 55,
   "metadata": {},
   "outputs": [
    {
     "data": {
      "image/png": "[encoded data removed]",
      "text/plain": [
       "plot without title"
      ]
     },
     "metadata": {},
     "output_type": "display_data"
    }
   ],
   "source": [
    "varImpPlot(rf)"
   ]
  },
  {
   "cell_type": "code",
   "execution_count": null,
   "metadata": {},
   "outputs": [],
   "source": []
  }
 ],
 "metadata": {
  "kernelspec": {
   "display_name": "R",
   "language": "R",
   "name": "ir"
  },
  "language_info": {
   "codemirror_mode": "r",
   "file_extension": ".r",
   "mimetype": "text/x-r-source",
   "name": "R",
   "pygments_lexer": "r",
   "version": "3.6.1"
  }
 },
 "nbformat": 4,
 "nbformat_minor": 4
}
