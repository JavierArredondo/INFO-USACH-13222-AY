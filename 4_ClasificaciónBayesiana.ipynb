{
 "cells": [
  {
   "cell_type": "markdown",
   "metadata": {},
   "source": [
    "# Clasificador Bayesiano\n",
    "\n",
    "\n",
    "### Librerías a utilizar:\n",
    "\n",
    "- e1071\n",
    "- caret\n",
    "\n",
    "### ¿Qué es un clasificador? ¿Bayesiano?\n",
    "Un clasificador corresponde a un modelo de aprendizaje automático que es capaz de reconocer patrones respecto a un valor objetivo. Para esta sesión utilizaremos y estudiaremos el clasificador bayesiano ingenuo, el cual se basa en la probabilidad condicional para \"aprender\" a clasificar.\n",
    "\n",
    "Un recordatorio, ¿qué es el teorema de bayes?\n",
    "\n",
    "> El teorema de Bayes, en la teoría de la probabilidad, es una proposición planteada por el matemático inglés Thomas Bayes (1702-1761)1​ y publicada póstumamente en 1763,2​ que expresa la probabilidad condicional de un evento aleatorio A dado B en términos de la distribución de probabilidad condicional del evento B dado A y la distribución de probabilidad marginal de solo A. (Wikipedia)\n",
    "\n",
    "$$ p(A|B) = \\frac{p(A \\cap B)}{p(B)} = \\frac{p(A)p(B|A)}{p(B)} $$\n",
    "\n",
    "Por lo tanto, para crear un clasificador bayesiano solo hace falta conocer las probabilidades condicionales de las caracteristicas en conjunto a la ocurrencia de la clase.\n",
    "\n",
    "$$ Clase_{NBC} = arg max \\{ p(c_i) \\Pi^p_i p(a_j / c_i)) \\} $$\n",
    "\n",
    "- $p(c_i)$ = probabilidad a priori\n",
    "- $p(a_j / c_i)$ = probabilidad a posteriori\n",
    "\n",
    "Cuando en la probabilidad a posteriori se tienen numeros reales, se calcula:\n",
    "\n",
    "$$ p(a_j/c_i) = \\frac{1}{\\sqrt(2 \\cdot \\pi) \\cdot \\sigma_j } \\cdot e^{\\frac{(a_j - \\bar{a_j})^2}{2 \\cdot \\sigma_j}}$$\n",
    "\n",
    "\n",
    "Si quisieramos evaluar la diabetes Mellitus, en donde supuestamente existen dos variables de interés, el nivel sobrepeso y el nivel de glucosa en la sangre del paciente. De un hospital se tiene la siguiente tabla:\n",
    "\n",
    "|  \t\t\tNivel de sobrepeso \t\t |  \t\t\tGlucosa en mg/100 ml de sangre \t\t |  \t\t\tDiabético \t\t |\n",
    "|:--------------------:|:--------------------------------:|:-----------:|\n",
    "|        \t\t\tNormal \t\t       |                \t\t\t70 \t\t               |      \t\t\tNo \t\t    |\n",
    "|        \t\t\tNormal \t\t       |                \t\t\t80 \t\t               |      \t\t\tNo \t\t    |\n",
    "|       \t\t\tSobrepeso \t\t     |                \t\t\t90 \t\t               |      \t\t\tNo \t\t    |\n",
    "|        \t\t\tNormal \t\t       |                \t\t\t100 \t\t              |      \t\t\tNo \t\t    |\n",
    "|         \t\t\tObeso \t\t       |                \t\t\t110 \t\t              |      \t\t\tNo \t\t    |\n",
    "|       \t\t\tSobrepeso \t\t     |                \t\t\t120 \t\t              |      \t\t\tSí \t\t    |\n",
    "|       \t\t\tSobrepeso \t\t     |                \t\t\t130 \t\t              |      \t\t\tSí \t\t    |\n",
    "|         \t\t\tObeso \t\t       |                \t\t\t140 \t\t              |      \t\t\tSí \t\t    |\n",
    "|         \t\t\tObeso \t\t       |                \t\t\t150 \t\t              |      \t\t\tSí \t\t    |\n",
    "\n",
    "\n",
    "\n",
    "Tenemos que la clase corresponde a Diabetes={si, no}, por lo tanto la probabilidad a priori corresponde a:\n",
    "\n",
    "- p(Diabetes=si) = 5/9\n",
    "- p(Diabetes=no) = 4/9\n",
    "\n",
    "Luego se deben calcular las probabilidades a posteriori:\n",
    "\n",
    "- p(Nivel de sobrepeso = Normal / Diabetes=si) = $\\frac{0/9}{4/9}$ = 0\n",
    "- p(Nivel de sobrepeso = Sobrepeso / Diabetes=si) = $\\frac{2/9}{4/9}$ = 1/2\n",
    "- p(Nivel de sobrepeso = Obeso / Diabetes=si) = $\\frac{2/9}{4/9}$ = 1/2\n",
    "\n",
    "\n",
    "- p(Nivel de sobrepeso = Normal / Diabetes=no) = $\\frac{3/9}{5/9}$ = 3/5\n",
    "- p(Nivel de sobrepeso = Sobrepeso / Diabetes=no) = $\\frac{1/9}{5/9}$ = 1/5\n",
    "- p(Nivel de sobrepeso = Obeso / Diabetes=no) = $\\frac{1/9}{5/9}$ = 1/5\n",
    "\n",
    "Ademas:\n",
    "\n",
    "- $\\sigma_{Glucosa\\_no} = 15.8$ y $\\bar{Glucosa\\_no} = 90$  \n",
    "- $\\sigma_{Glucosa\\_si} = 12.9$ y $\\bar{Glucosa\\_si} = 135$\n",
    "\n",
    "Luego, se tiene constituido el clasificador tipo:\n",
    "\n",
    "$$ Clase_{NBC} = arg max \\{ p(c_i) \\Pi^p_i p(a_j / c_i)) \\} $$\n",
    "\n",
    "Si llega un individuo con **Glucosa=90 mg/mL** y su **Nivel de sobrepeso = Obeso**, se tiene:\n",
    "\n",
    "$$ Clase_{NBC} = arg max \\{ \\\\ \n",
    "4/9 \\cdot (\\text{p(NS = Obeso / Diabetes=si)} \\cdot \\text{p(NG = 90 / Diabetes=si}), \\\\ 5/9 \\cdot (\\text{p(NS = Obeso / Diabetes=no)} \\cdot \\text{p(NG = 90 / Diabetes=no}) \\\\ \\} $$\n"
   ]
  },
  {
   "cell_type": "code",
   "execution_count": 7,
   "metadata": {},
   "outputs": [],
   "source": [
    "library(\"e1071\")\n",
    "library(\"caret\")"
   ]
  },
  {
   "cell_type": "code",
   "execution_count": 9,
   "metadata": {},
   "outputs": [],
   "source": [
    "columns = c(\"area\", \"perimeter\", \"compactness\", \"length\", \"width\", \"AC\", \"lengthGroove\", \"class\")\n",
    "url = \"https://www.dl.dropboxusercontent.com/s/wrexlo5im3g5ioi/seeds_dataset.csv\"\n",
    "seeds = read.csv(url, header = F, sep=\",\", col.names = columns)\n",
    "seeds$class = factor(seeds$class, levels = c(1,2,3), labels = c(\"Kama\", \"Rosa\", \"Canadian\"))"
   ]
  },
  {
   "cell_type": "code",
   "execution_count": 8,
   "metadata": {},
   "outputs": [],
   "source": [
    "training.index = createDataPartition(seeds$class, p=0.7)$Resample1\n",
    "training.set = seeds[training.index, ]\n",
    "test.set = seeds[-training.index, ]"
   ]
  },
  {
   "cell_type": "code",
   "execution_count": 10,
   "metadata": {},
   "outputs": [
    {
     "data": {
      "text/plain": [
       "\n",
       "Naive Bayes Classifier for Discrete Predictors\n",
       "\n",
       "Call:\n",
       "naiveBayes.default(x = X, y = Y, laplace = laplace)\n",
       "\n",
       "A-priori probabilities:\n",
       "Y\n",
       "     Kama      Rosa  Canadian \n",
       "0.3333333 0.3333333 0.3333333 \n",
       "\n",
       "Conditional probabilities:\n",
       "          area\n",
       "Y              [,1]      [,2]\n",
       "  Kama     14.32388 1.2521944\n",
       "  Rosa     18.26837 1.4973342\n",
       "  Canadian 11.91469 0.7252244\n",
       "\n",
       "          perimeter\n",
       "Y              [,1]      [,2]\n",
       "  Kama     14.29531 0.6004585\n",
       "  Rosa     16.09408 0.6335348\n",
       "  Canadian 13.26776 0.3561558\n",
       "\n",
       "          compactness\n",
       "Y               [,1]       [,2]\n",
       "  Kama     0.8791878 0.01511354\n",
       "  Rosa     0.8847816 0.01594135\n",
       "  Canadian 0.8497776 0.01951416\n",
       "\n",
       "          length\n",
       "Y              [,1]      [,2]\n",
       "  Kama     5.521367 0.2332064\n",
       "  Rosa     6.136755 0.2765284\n",
       "  Canadian 5.234612 0.1411087\n",
       "\n",
       "          width\n",
       "Y              [,1]      [,2]\n",
       "  Kama     3.237980 0.1865990\n",
       "  Rosa     3.675673 0.1959316\n",
       "  Canadian 2.858612 0.1417621\n",
       "\n",
       "          AC\n",
       "Y              [,1]     [,2]\n",
       "  Kama     2.604086 1.111901\n",
       "  Rosa     3.672633 1.133951\n",
       "  Canadian 4.706041 1.256551\n",
       "\n",
       "          lengthGroove\n",
       "Y              [,1]      [,2]\n",
       "  Kama     5.102265 0.2608168\n",
       "  Rosa     6.011163 0.2701835\n",
       "  Canadian 5.125490 0.1540181\n"
      ]
     },
     "metadata": {},
     "output_type": "display_data"
    }
   ],
   "source": [
    "bayesian.classifier = naiveBayes(class ~ ., data = training.set)\n",
    "bayesian.classifier"
   ]
  },
  {
   "cell_type": "code",
   "execution_count": 11,
   "metadata": {},
   "outputs": [],
   "source": [
    "bayesian.results = predict(object = bayesian.classifier, test.set)"
   ]
  },
  {
   "cell_type": "code",
   "execution_count": 12,
   "metadata": {},
   "outputs": [
    {
     "name": "stdout",
     "output_type": "stream",
     "text": [
      "Confusion Matrix and Statistics\n",
      "\n",
      "          bayesian.results\n",
      "           Kama Rosa Canadian\n",
      "  Kama       18    1        2\n",
      "  Rosa        1   20        0\n",
      "  Canadian    1    0       20\n",
      "\n",
      "Overall Statistics\n",
      "                                          \n",
      "               Accuracy : 0.9206          \n",
      "                 95% CI : (0.8244, 0.9737)\n",
      "    No Information Rate : 0.3492          \n",
      "    P-Value [Acc > NIR] : < 2.2e-16       \n",
      "                                          \n",
      "                  Kappa : 0.881           \n",
      "                                          \n",
      " Mcnemar's Test P-Value : NA              \n",
      "\n",
      "Statistics by Class:\n",
      "\n",
      "                     Class: Kama Class: Rosa Class: Canadian\n",
      "Sensitivity               0.9000      0.9524          0.9091\n",
      "Specificity               0.9302      0.9762          0.9756\n",
      "Pos Pred Value            0.8571      0.9524          0.9524\n",
      "Neg Pred Value            0.9524      0.9762          0.9524\n",
      "Prevalence                0.3175      0.3333          0.3492\n",
      "Detection Rate            0.2857      0.3175          0.3175\n",
      "Detection Prevalence      0.3333      0.3333          0.3333\n",
      "Balanced Accuracy         0.9151      0.9643          0.9424\n"
     ]
    }
   ],
   "source": [
    "conf.matrix.cb = confusionMatrix(table(test.set$class, bayesian.results))\n",
    "print(conf.matrix.cb)"
   ]
  },
  {
   "cell_type": "code",
   "execution_count": null,
   "metadata": {},
   "outputs": [],
   "source": []
  }
 ],
 "metadata": {
  "kernelspec": {
   "display_name": "R",
   "language": "R",
   "name": "ir"
  },
  "language_info": {
   "codemirror_mode": "r",
   "file_extension": ".r",
   "mimetype": "text/x-r-source",
   "name": "R",
   "pygments_lexer": "r",
   "version": "3.6.1"
  }
 },
 "nbformat": 4,
 "nbformat_minor": 4
}
