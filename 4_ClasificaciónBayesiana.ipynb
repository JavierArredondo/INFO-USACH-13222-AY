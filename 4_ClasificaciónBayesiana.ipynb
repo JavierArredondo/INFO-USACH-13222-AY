{
 "cells": [
  {
   "cell_type": "markdown",
   "metadata": {},
   "source": [
    "# Clasificador Bayesiano\n",
    "\n",
    "\n",
    "### Librerías a utilizar:\n",
    "\n",
    "- e1071\n",
    "- caret\n",
    "\n",
    "### ¿Qué es un clasificador? ¿Bayesiano?\n",
    "\n",
    "\n",
    "### ¿Cuándo las utilizo?"
   ]
  },
  {
   "cell_type": "code",
   "execution_count": 7,
   "metadata": {},
   "outputs": [],
   "source": [
    "library(\"e1071\")\n",
    "library(\"caret\")"
   ]
  },
  {
   "cell_type": "code",
   "execution_count": 9,
   "metadata": {},
   "outputs": [],
   "source": [
    "columns = c(\"area\", \"perimeter\", \"compactness\", \"length\", \"width\", \"AC\", \"lengthGroove\", \"class\")\n",
    "url = \"https://www.dl.dropboxusercontent.com/s/wrexlo5im3g5ioi/seeds_dataset.csv\"\n",
    "seeds = read.csv(url, header = F, sep=\",\", col.names = columns)\n",
    "seeds$class = factor(seeds$class, levels = c(1,2,3), labels = c(\"Kama\", \"Rosa\", \"Canadian\"))"
   ]
  },
  {
   "cell_type": "code",
   "execution_count": 8,
   "metadata": {},
   "outputs": [],
   "source": [
    "training.index = createDataPartition(seeds$class, p=0.7)$Resample1\n",
    "training.set = seeds[training.index, ]\n",
    "test.set = seeds[-training.index, ]"
   ]
  },
  {
   "cell_type": "code",
   "execution_count": 10,
   "metadata": {},
   "outputs": [
    {
     "data": {
      "text/plain": [
       "\n",
       "Naive Bayes Classifier for Discrete Predictors\n",
       "\n",
       "Call:\n",
       "naiveBayes.default(x = X, y = Y, laplace = laplace)\n",
       "\n",
       "A-priori probabilities:\n",
       "Y\n",
       "     Kama      Rosa  Canadian \n",
       "0.3333333 0.3333333 0.3333333 \n",
       "\n",
       "Conditional probabilities:\n",
       "          area\n",
       "Y              [,1]      [,2]\n",
       "  Kama     14.32388 1.2521944\n",
       "  Rosa     18.26837 1.4973342\n",
       "  Canadian 11.91469 0.7252244\n",
       "\n",
       "          perimeter\n",
       "Y              [,1]      [,2]\n",
       "  Kama     14.29531 0.6004585\n",
       "  Rosa     16.09408 0.6335348\n",
       "  Canadian 13.26776 0.3561558\n",
       "\n",
       "          compactness\n",
       "Y               [,1]       [,2]\n",
       "  Kama     0.8791878 0.01511354\n",
       "  Rosa     0.8847816 0.01594135\n",
       "  Canadian 0.8497776 0.01951416\n",
       "\n",
       "          length\n",
       "Y              [,1]      [,2]\n",
       "  Kama     5.521367 0.2332064\n",
       "  Rosa     6.136755 0.2765284\n",
       "  Canadian 5.234612 0.1411087\n",
       "\n",
       "          width\n",
       "Y              [,1]      [,2]\n",
       "  Kama     3.237980 0.1865990\n",
       "  Rosa     3.675673 0.1959316\n",
       "  Canadian 2.858612 0.1417621\n",
       "\n",
       "          AC\n",
       "Y              [,1]     [,2]\n",
       "  Kama     2.604086 1.111901\n",
       "  Rosa     3.672633 1.133951\n",
       "  Canadian 4.706041 1.256551\n",
       "\n",
       "          lengthGroove\n",
       "Y              [,1]      [,2]\n",
       "  Kama     5.102265 0.2608168\n",
       "  Rosa     6.011163 0.2701835\n",
       "  Canadian 5.125490 0.1540181\n"
      ]
     },
     "metadata": {},
     "output_type": "display_data"
    }
   ],
   "source": [
    "bayesian.classifier = naiveBayes(class ~ ., data = training.set)\n",
    "bayesian.classifier"
   ]
  },
  {
   "cell_type": "code",
   "execution_count": 11,
   "metadata": {},
   "outputs": [],
   "source": [
    "bayesian.results = predict(object = bayesian.classifier, test.set)"
   ]
  },
  {
   "cell_type": "code",
   "execution_count": 12,
   "metadata": {},
   "outputs": [
    {
     "name": "stdout",
     "output_type": "stream",
     "text": [
      "Confusion Matrix and Statistics\n",
      "\n",
      "          bayesian.results\n",
      "           Kama Rosa Canadian\n",
      "  Kama       18    1        2\n",
      "  Rosa        1   20        0\n",
      "  Canadian    1    0       20\n",
      "\n",
      "Overall Statistics\n",
      "                                          \n",
      "               Accuracy : 0.9206          \n",
      "                 95% CI : (0.8244, 0.9737)\n",
      "    No Information Rate : 0.3492          \n",
      "    P-Value [Acc > NIR] : < 2.2e-16       \n",
      "                                          \n",
      "                  Kappa : 0.881           \n",
      "                                          \n",
      " Mcnemar's Test P-Value : NA              \n",
      "\n",
      "Statistics by Class:\n",
      "\n",
      "                     Class: Kama Class: Rosa Class: Canadian\n",
      "Sensitivity               0.9000      0.9524          0.9091\n",
      "Specificity               0.9302      0.9762          0.9756\n",
      "Pos Pred Value            0.8571      0.9524          0.9524\n",
      "Neg Pred Value            0.9524      0.9762          0.9524\n",
      "Prevalence                0.3175      0.3333          0.3492\n",
      "Detection Rate            0.2857      0.3175          0.3175\n",
      "Detection Prevalence      0.3333      0.3333          0.3333\n",
      "Balanced Accuracy         0.9151      0.9643          0.9424\n"
     ]
    }
   ],
   "source": [
    "conf.matrix.cb = confusionMatrix(table(test.set$class, bayesian.results))\n",
    "print(conf.matrix.cb)"
   ]
  },
  {
   "cell_type": "code",
   "execution_count": null,
   "metadata": {},
   "outputs": [],
   "source": []
  }
 ],
 "metadata": {
  "kernelspec": {
   "display_name": "R",
   "language": "R",
   "name": "ir"
  },
  "language_info": {
   "codemirror_mode": "r",
   "file_extension": ".r",
   "mimetype": "text/x-r-source",
   "name": "R",
   "pygments_lexer": "r",
   "version": "3.6.1"
  }
 },
 "nbformat": 4,
 "nbformat_minor": 4
}
