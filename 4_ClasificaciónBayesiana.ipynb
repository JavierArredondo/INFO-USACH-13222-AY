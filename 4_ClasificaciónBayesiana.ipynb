{
 "cells": [
  {
   "cell_type": "markdown",
   "metadata": {},
   "source": [
    "# Clasificador Bayesiano\n",
    "\n",
    "\n",
    "### Librerías a utilizar:\n",
    "\n",
    "- e1071\n",
    "- caret\n",
    "\n",
    "### ¿Qué es un clasificador? ¿Bayesiano?\n",
    "Un clasificador corresponde a un modelo de aprendizaje automático que es capaz de reconocer patrones respecto a un valor objetivo. Para esta sesión utilizaremos y estudiaremos el clasificador bayesiano ingenuo, el cual se basa en la probabilidad condicional para \"aprender\" a clasificar.\n",
    "\n",
    "Un recordatorio, ¿qué es el teorema de bayes?\n",
    "\n",
    "> El teorema de Bayes, en la teoría de la probabilidad, es una proposición planteada por el matemático inglés Thomas Bayes (1702-1761)1​ y publicada póstumamente en 1763,2​ que expresa la probabilidad condicional de un evento aleatorio A dado B en términos de la distribución de probabilidad condicional del evento B dado A y la distribución de probabilidad marginal de solo A. (Wikipedia)\n",
    "\n",
    "$$ p(A|B) = \\frac{p(A \\cap B)}{p(B)} = \\frac{p(A)p(B|A)}{p(B)} $$\n",
    "\n",
    "Por lo tanto, para crear un clasificador bayesiano solo hace falta conocer las probabilidades condicionales de las caracteristicas en conjunto a la ocurrencia de la clase.\n",
    "\n",
    "$$ Clase_{NBC} = arg max \\{ p(c_i) \\Pi^p_i p(a_j / c_i)) \\} $$\n",
    "\n",
    "- $p(c_i)$ = probabilidad a priori\n",
    "- $p(a_j / c_i)$ = probabilidad a posteriori\n",
    "\n",
    "Cuando en la probabilidad a posteriori se tienen numeros reales, se calcula:\n",
    "\n",
    "$$ p(a_j/c_i) = \\frac{1}{\\sqrt(2 \\cdot \\pi) \\cdot \\sigma_j } \\cdot e^{\\frac{(a_j - \\bar{a_j})^2}{2 \\cdot \\sigma_j}}$$\n",
    "\n",
    "\n",
    "Si quisieramos evaluar la diabetes Mellitus, en donde supuestamente existen dos variables de interés, el nivel sobrepeso y el nivel de glucosa en la sangre del paciente. De un hospital se tiene la siguiente tabla:\n",
    "\n",
    "|  \t\t\tNivel de sobrepeso \t\t |  \t\t\tGlucosa en mg/100 ml de sangre \t\t |  \t\t\tDiabético \t\t |\n",
    "|:--------------------:|:--------------------------------:|:-----------:|\n",
    "|        \t\t\tNormal \t\t       |                \t\t\t70 \t\t               |      \t\t\tNo \t\t    |\n",
    "|        \t\t\tNormal \t\t       |                \t\t\t80 \t\t               |      \t\t\tNo \t\t    |\n",
    "|       \t\t\tSobrepeso \t\t     |                \t\t\t90 \t\t               |      \t\t\tNo \t\t    |\n",
    "|        \t\t\tNormal \t\t       |                \t\t\t100 \t\t              |      \t\t\tNo \t\t    |\n",
    "|         \t\t\tObeso \t\t       |                \t\t\t110 \t\t              |      \t\t\tNo \t\t    |\n",
    "|       \t\t\tSobrepeso \t\t     |                \t\t\t120 \t\t              |      \t\t\tSí \t\t    |\n",
    "|       \t\t\tSobrepeso \t\t     |                \t\t\t130 \t\t              |      \t\t\tSí \t\t    |\n",
    "|         \t\t\tObeso \t\t       |                \t\t\t140 \t\t              |      \t\t\tSí \t\t    |\n",
    "|         \t\t\tObeso \t\t       |                \t\t\t150 \t\t              |      \t\t\tSí \t\t    |\n",
    "\n",
    "\n",
    "\n",
    "Tenemos que la clase corresponde a Diabetes={si, no}, por lo tanto la probabilidad a priori corresponde a:\n",
    "\n",
    "- p(Diabetes=si) = 4/9\n",
    "- p(Diabetes=no) = 5/9\n",
    "\n",
    "Luego se deben calcular las probabilidades a posteriori:\n",
    "\n",
    "- p(Nivel de sobrepeso = Normal / Diabetes=si) = $\\frac{0/9}{4/9}$ = 0\n",
    "- p(Nivel de sobrepeso = Sobrepeso / Diabetes=si) = $\\frac{2/9}{4/9}$ = 1/2\n",
    "- p(Nivel de sobrepeso = Obeso / Diabetes=si) = $\\frac{2/9}{4/9}$ = 1/2\n",
    "\n",
    "\n",
    "- p(Nivel de sobrepeso = Normal / Diabetes=no) = $\\frac{3/9}{5/9}$ = 3/5\n",
    "- p(Nivel de sobrepeso = Sobrepeso / Diabetes=no) = $\\frac{1/9}{5/9}$ = 1/5\n",
    "- p(Nivel de sobrepeso = Obeso / Diabetes=no) = $\\frac{1/9}{5/9}$ = 1/5\n",
    "\n",
    "Ademas:\n",
    "\n",
    "- $\\sigma_{Glucosa\\_no} = 15.8$ y $\\bar{Glucosa\\_no} = 90$  \n",
    "- $\\sigma_{Glucosa\\_si} = 12.9$ y $\\bar{Glucosa\\_si} = 135$\n",
    "\n",
    "Luego, se tiene constituido el clasificador tipo:\n",
    "\n",
    "$$ Clase_{NBC} = arg max \\{ p(c_i) \\Pi^p_i p(a_j / c_i)) \\} $$\n",
    "\n",
    "Si llega un individuo con **Glucosa=90 mg/mL** y su **Nivel de sobrepeso = Obeso**, se tiene:\n",
    "\n",
    "$$ Clase_{NBC} = arg max \\{ \\\\ \n",
    "4/9 \\cdot (\\text{p(NS = Obeso / Diabetes=si)} \\cdot \\text{p(NG = 90 / Diabetes=si}), \\\\ 5/9 \\cdot (\\text{p(NS = Obeso / Diabetes=no)} \\cdot \\text{p(NG = 90 / Diabetes=no}) \\\\ \\} $$\n",
    "\n",
    "\n",
    "Quedando:\n",
    "\n",
    "$$ Clase_{NBC} = arg max \\{ 0.0000155 , 0.0028 \\} $$\n",
    "\n",
    "Por lo tanto el nuevo paciente no tiene diabetes segun el clasificador bayesiano."
   ]
  },
  {
   "cell_type": "code",
   "execution_count": 2,
   "metadata": {},
   "outputs": [],
   "source": [
    "library(\"e1071\")\n",
    "library(\"caret\")"
   ]
  },
  {
   "cell_type": "code",
   "execution_count": 5,
   "metadata": {},
   "outputs": [],
   "source": [
    "example = data.frame(\n",
    "    ns=c(\"Normal\", \"Normal\", \"Sobrepeso\", \"Normal\", \"Obeso\", \"Sobrepeso\", \"Sobrepeso\", \"Obeso\", \"Obeso\"),\n",
    "    ng=c(70, 80, 90, 100, 110, 120, 130, 140, 150),\n",
    "    d=c(\"no\",\"no\",\"no\",\"no\",\"no\",\"si\",\"si\",\"si\",\"si\")\n",
    ")"
   ]
  },
  {
   "cell_type": "code",
   "execution_count": 6,
   "metadata": {},
   "outputs": [
    {
     "data": {
      "text/html": [
       "<table>\n",
       "<thead><tr><th scope=col>ns</th><th scope=col>ng</th><th scope=col>d</th></tr></thead>\n",
       "<tbody>\n",
       "\t<tr><td>Normal   </td><td> 70      </td><td>no       </td></tr>\n",
       "\t<tr><td>Normal   </td><td> 80      </td><td>no       </td></tr>\n",
       "\t<tr><td>Sobrepeso</td><td> 90      </td><td>no       </td></tr>\n",
       "\t<tr><td>Normal   </td><td>100      </td><td>no       </td></tr>\n",
       "\t<tr><td>Obeso    </td><td>110      </td><td>no       </td></tr>\n",
       "\t<tr><td>Sobrepeso</td><td>120      </td><td>si       </td></tr>\n",
       "\t<tr><td>Sobrepeso</td><td>130      </td><td>si       </td></tr>\n",
       "\t<tr><td>Obeso    </td><td>140      </td><td>si       </td></tr>\n",
       "\t<tr><td>Obeso    </td><td>150      </td><td>si       </td></tr>\n",
       "</tbody>\n",
       "</table>\n"
      ],
      "text/latex": [
       "\\begin{tabular}{r|lll}\n",
       " ns & ng & d\\\\\n",
       "\\hline\n",
       "\t Normal    &  70       & no       \\\\\n",
       "\t Normal    &  80       & no       \\\\\n",
       "\t Sobrepeso &  90       & no       \\\\\n",
       "\t Normal    & 100       & no       \\\\\n",
       "\t Obeso     & 110       & no       \\\\\n",
       "\t Sobrepeso & 120       & si       \\\\\n",
       "\t Sobrepeso & 130       & si       \\\\\n",
       "\t Obeso     & 140       & si       \\\\\n",
       "\t Obeso     & 150       & si       \\\\\n",
       "\\end{tabular}\n"
      ],
      "text/markdown": [
       "\n",
       "| ns | ng | d |\n",
       "|---|---|---|\n",
       "| Normal    |  70       | no        |\n",
       "| Normal    |  80       | no        |\n",
       "| Sobrepeso |  90       | no        |\n",
       "| Normal    | 100       | no        |\n",
       "| Obeso     | 110       | no        |\n",
       "| Sobrepeso | 120       | si        |\n",
       "| Sobrepeso | 130       | si        |\n",
       "| Obeso     | 140       | si        |\n",
       "| Obeso     | 150       | si        |\n",
       "\n"
      ],
      "text/plain": [
       "  ns        ng  d \n",
       "1 Normal     70 no\n",
       "2 Normal     80 no\n",
       "3 Sobrepeso  90 no\n",
       "4 Normal    100 no\n",
       "5 Obeso     110 no\n",
       "6 Sobrepeso 120 si\n",
       "7 Sobrepeso 130 si\n",
       "8 Obeso     140 si\n",
       "9 Obeso     150 si"
      ]
     },
     "metadata": {},
     "output_type": "display_data"
    }
   ],
   "source": [
    "example"
   ]
  },
  {
   "cell_type": "code",
   "execution_count": 7,
   "metadata": {},
   "outputs": [
    {
     "data": {
      "text/plain": [
       "\n",
       "Naive Bayes Classifier for Discrete Predictors\n",
       "\n",
       "Call:\n",
       "naiveBayes.default(x = X, y = Y, laplace = laplace)\n",
       "\n",
       "A-priori probabilities:\n",
       "Y\n",
       "       no        si \n",
       "0.5555556 0.4444444 \n",
       "\n",
       "Conditional probabilities:\n",
       "    ns\n",
       "Y    Normal Obeso Sobrepeso\n",
       "  no    0.6   0.2       0.2\n",
       "  si    0.0   0.5       0.5\n",
       "\n",
       "    ng\n",
       "Y    [,1]     [,2]\n",
       "  no   90 15.81139\n",
       "  si  135 12.90994\n"
      ]
     },
     "metadata": {},
     "output_type": "display_data"
    }
   ],
   "source": [
    "bayesian.classifier = naiveBayes(d ~ ., data = example)\n",
    "bayesian.classifier"
   ]
  },
  {
   "cell_type": "code",
   "execution_count": 14,
   "metadata": {},
   "outputs": [],
   "source": [
    "pacients = data.frame(ns=c(\"Obeso\", \"Sobrepeso\"), ng=c(90, 150))\n",
    "response = predict(object = bayesian.classifier, pacients)"
   ]
  },
  {
   "cell_type": "code",
   "execution_count": 15,
   "metadata": {},
   "outputs": [
    {
     "data": {
      "text/html": [
       "<ol class=list-inline>\n",
       "\t<li>no</li>\n",
       "\t<li>si</li>\n",
       "</ol>\n",
       "\n",
       "<details>\n",
       "\t<summary style=display:list-item;cursor:pointer>\n",
       "\t\t<strong>Levels</strong>:\n",
       "\t</summary>\n",
       "\t<ol class=list-inline>\n",
       "\t\t<li>'no'</li>\n",
       "\t\t<li>'si'</li>\n",
       "\t</ol>\n",
       "</details>"
      ],
      "text/latex": [
       "\\begin{enumerate*}\n",
       "\\item no\n",
       "\\item si\n",
       "\\end{enumerate*}\n",
       "\n",
       "\\emph{Levels}: \\begin{enumerate*}\n",
       "\\item 'no'\n",
       "\\item 'si'\n",
       "\\end{enumerate*}\n"
      ],
      "text/markdown": [
       "1. no\n",
       "2. si\n",
       "\n",
       "\n",
       "\n",
       "**Levels**: 1. 'no'\n",
       "2. 'si'\n",
       "\n",
       "\n"
      ],
      "text/plain": [
       "[1] no si\n",
       "Levels: no si"
      ]
     },
     "metadata": {},
     "output_type": "display_data"
    }
   ],
   "source": [
    "response"
   ]
  },
  {
   "cell_type": "code",
   "execution_count": 51,
   "metadata": {},
   "outputs": [],
   "source": [
    "columns = c(\"area\", \"perimeter\", \"compactness\", \"length\", \"width\", \"AC\", \"lengthGroove\", \"class\")\n",
    "url = \"https://www.dl.dropboxusercontent.com/s/wrexlo5im3g5ioi/seeds_dataset.csv\"\n",
    "seeds = read.csv(url, header = F, sep=\",\", col.names = columns)\n",
    "seeds$class = factor(seeds$class, levels = c(1,2,3), labels = c(\"Kama\", \"Rosa\", \"Canadian\"))\n",
    "seeds = seeds[c(1, 4, 6, 8)]"
   ]
  },
  {
   "cell_type": "code",
   "execution_count": 52,
   "metadata": {},
   "outputs": [],
   "source": [
    "set.seed(1313)\n",
    "training.index = createDataPartition(seeds$class, p=0.7)$Resample1\n",
    "training.set = seeds[training.index, ]\n",
    "test.set = seeds[-training.index, ]"
   ]
  },
  {
   "cell_type": "code",
   "execution_count": 53,
   "metadata": {},
   "outputs": [
    {
     "data": {
      "text/plain": [
       "\n",
       "Naive Bayes Classifier for Discrete Predictors\n",
       "\n",
       "Call:\n",
       "naiveBayes.default(x = X, y = Y, laplace = laplace)\n",
       "\n",
       "A-priori probabilities:\n",
       "Y\n",
       "     Kama      Rosa  Canadian \n",
       "0.3333333 0.3333333 0.3333333 \n",
       "\n",
       "Conditional probabilities:\n",
       "          area\n",
       "Y              [,1]      [,2]\n",
       "  Kama     14.48857 1.1679451\n",
       "  Rosa     18.36245 1.4282325\n",
       "  Canadian 11.90551 0.7314855\n",
       "\n",
       "          length\n",
       "Y              [,1]      [,2]\n",
       "  Kama     5.522245 0.2315241\n",
       "  Rosa     6.141102 0.2289450\n",
       "  Canadian 5.218224 0.1370204\n",
       "\n",
       "          AC\n",
       "Y              [,1]     [,2]\n",
       "  Kama     2.553596 1.143665\n",
       "  Rosa     3.704714 1.279780\n",
       "  Canadian 4.930959 1.415836\n"
      ]
     },
     "metadata": {},
     "output_type": "display_data"
    }
   ],
   "source": [
    "bayesian.classifier = naiveBayes(class ~ ., data = training.set)\n",
    "bayesian.classifier"
   ]
  },
  {
   "cell_type": "code",
   "execution_count": 54,
   "metadata": {},
   "outputs": [],
   "source": [
    "bayesian.results = predict(object = bayesian.classifier, test.set)\n",
    "test.set[\"predicted\"] = bayesian.results"
   ]
  },
  {
   "cell_type": "code",
   "execution_count": 55,
   "metadata": {},
   "outputs": [],
   "source": [
    "#test.set"
   ]
  },
  {
   "cell_type": "code",
   "execution_count": 56,
   "metadata": {},
   "outputs": [
    {
     "name": "stdout",
     "output_type": "stream",
     "text": [
      "Confusion Matrix and Statistics\n",
      "\n",
      "          \n",
      "           Kama Rosa Canadian\n",
      "  Kama       16    1        4\n",
      "  Rosa        2   19        0\n",
      "  Canadian    1    0       20\n",
      "\n",
      "Overall Statistics\n",
      "                                         \n",
      "               Accuracy : 0.873          \n",
      "                 95% CI : (0.765, 0.9435)\n",
      "    No Information Rate : 0.381          \n",
      "    P-Value [Acc > NIR] : 8.112e-16      \n",
      "                                         \n",
      "                  Kappa : 0.8095         \n",
      "                                         \n",
      " Mcnemar's Test P-Value : NA             \n",
      "\n",
      "Statistics by Class:\n",
      "\n",
      "                     Class: Kama Class: Rosa Class: Canadian\n",
      "Sensitivity               0.8421      0.9500          0.8333\n",
      "Specificity               0.8864      0.9535          0.9744\n",
      "Pos Pred Value            0.7619      0.9048          0.9524\n",
      "Neg Pred Value            0.9286      0.9762          0.9048\n",
      "Prevalence                0.3016      0.3175          0.3810\n",
      "Detection Rate            0.2540      0.3016          0.3175\n",
      "Detection Prevalence      0.3333      0.3333          0.3333\n",
      "Balanced Accuracy         0.8642      0.9517          0.9038\n"
     ]
    }
   ],
   "source": [
    "conf.matrix.cb = confusionMatrix(table(test.set$class, test.set$predicted))\n",
    "print(conf.matrix.cb)"
   ]
  },
  {
   "cell_type": "code",
   "execution_count": null,
   "metadata": {},
   "outputs": [],
   "source": []
  }
 ],
 "metadata": {
  "kernelspec": {
   "display_name": "R",
   "language": "R",
   "name": "ir"
  },
  "language_info": {
   "codemirror_mode": "r",
   "file_extension": ".r",
   "mimetype": "text/x-r-source",
   "name": "R",
   "pygments_lexer": "r",
   "version": "3.6.1"
  }
 },
 "nbformat": 4,
 "nbformat_minor": 4
}
