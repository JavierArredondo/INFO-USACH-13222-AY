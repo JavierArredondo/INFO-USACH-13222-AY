{
 "cells": [
  {
   "cell_type": "code",
   "execution_count": null,
   "metadata": {},
   "outputs": [],
   "source": [
    "IRdisplay::display_html(\"\n",
    "<style>\n",
    ".rendered_html {font-size: 1.2em; line-height: 150%;}\n",
    "div.prompt {min-width: 0ex; padding: 0px;}\n",
    ".container {width:95% !important;}\n",
    "</style>\")"
   ]
  },
  {
   "cell_type": "markdown",
   "metadata": {},
   "source": [
    "# *Principal Component Analysis*\n",
    "\n",
    "- El análisis de componentes principales es un proceso en donde se calculan las mayores \"influencias\" de lso datos, la idea es es obtener comprensión mediante una matriz de datos.\n",
    "- PCA tiene un enfoque de aprendizaje no supervisado. Por lo cual se tienen $M$ variables $x_i$ sin etiquetas $y_i$.\n",
    "- La idea principal es **reducir la dimensionalidad** del conjunto de datos, es decir, buscar las componentes que permitan explicar la mayor parte de la variabilidad utilizando menos variables. \n",
    "- Generalmente se utiliza esta técnica como una primera aproximación para ver el comportamiento de los datos.\n",
    "- Evitar **multicolinealidad**.\n",
    "\n",
    "![PCA_example1](images/pca_example_1.png)\n",
    "\n",
    "\n",
    "> Se requiere una transformación ($y_i$) que ubique el primer eje en el sentido de la mayor dispersión de puntos, luego el segundo eje en la dirección de la segunda dispersión y así sucesivamente.\n",
    "\n",
    "\n",
    "Si tenemos un conjunto $X$ de $n$ observaciones y $p$ columnas:\n",
    "\n",
    "$$X = \\begin{pmatrix} x_{11} & ... & x_{1p} \\\\ & ... &\\\\ x_{n1}& ...&  x_{np} \\\\ \\end{pmatrix} $$\n"
   ]
  },
  {
   "cell_type": "markdown",
   "metadata": {},
   "source": [
    "- Se requiere una transformación lineal e invertible $T$ tal que al truncar $T$ se produzca una mínima pérdida de varianza.\n",
    "- Se requiere una transformación ortonormal que minimice lavarianza de los nuevosyipara poder truncarlos."
   ]
  },
  {
   "cell_type": "code",
   "execution_count": 1,
   "metadata": {},
   "outputs": [
    {
     "name": "stderr",
     "output_type": "stream",
     "text": [
      "Loading required package: ggplot2\n",
      "\n",
      "Loading required package: magrittr\n",
      "\n"
     ]
    }
   ],
   "source": [
    "library(ggpubr)"
   ]
  },
  {
   "cell_type": "code",
   "execution_count": null,
   "metadata": {},
   "outputs": [],
   "source": [
    "columns = c(\"area\", \"perimeter\", \"compactness\", \"length\", \"width\", \"AC\", \"lengthGroove\", \"class\")\n",
    "url = \"https://www.dl.dropboxusercontent.com/s/wrexlo5im3g5ioi/seeds_dataset.csv\"\n",
    "seeds = read.csv(url, header = F, sep=\",\", col.names = columns)\n",
    "seeds$class = factor(seeds$class, levels = c(1,2,3), labels = c(\"Kama\", \"Rosa\", \"Canadian\"))"
   ]
  },
  {
   "cell_type": "code",
   "execution_count": null,
   "metadata": {},
   "outputs": [],
   "source": []
  }
 ],
 "metadata": {
  "kernelspec": {
   "display_name": "R",
   "language": "R",
   "name": "ir"
  },
  "language_info": {
   "codemirror_mode": "r",
   "file_extension": ".r",
   "mimetype": "text/x-r-source",
   "name": "R",
   "pygments_lexer": "r",
   "version": "3.5.1"
  }
 },
 "nbformat": 4,
 "nbformat_minor": 2
}
