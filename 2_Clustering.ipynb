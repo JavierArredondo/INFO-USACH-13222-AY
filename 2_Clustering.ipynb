{
 "cells": [
  {
   "cell_type": "code",
   "execution_count": null,
   "metadata": {},
   "outputs": [],
   "source": [
    "IRdisplay::display_html(\"\n",
    "<style>\n",
    ".output_png {\n",
    "        display: table-cell;\n",
    "        text-align: center;\n",
    "        vertical-align: middle;\n",
    "    }\n",
    "</style>\")"
   ]
  },
  {
   "cell_type": "markdown",
   "metadata": {},
   "source": [
    "# Agrupamiento con *kmeans*\n",
    "\n",
    "El agrupamiento de observaciones consiste en técnicas de minería de datos para identificar grupos de observaciones o sujetos similares, para esto se utilizan características del conjunto de datos a trabajar. Este tipo de técnicas corresponde a *aprendizaje no supervisado*.\n",
    "\n",
    "La similitud entre observaciones (o individuos) se define utilizando algunas medidas de distancia entre observaciones, incluidas medidas de distancia euclidianas y basadas en correlaciones.\n",
    "\n",
    "Existen diferentes tipos de técnicas de agrupación de datos:\n",
    "- kmeans: Subdividir en $k$ grupos el conjunto de datos.\n",
    "- dendogramas: Enfoques de agrupamiento jerárquico, que identifican grupos en los datos sin subdividirlos.\n"
   ]
  },
  {
   "cell_type": "code",
   "execution_count": null,
   "metadata": {},
   "outputs": [],
   "source": [
    "library(ggpubr)\n",
    "library(factoextra)\n",
    "library(cluster)"
   ]
  },
  {
   "cell_type": "code",
   "execution_count": null,
   "metadata": {},
   "outputs": [],
   "source": [
    "columns = c(\"area\", \"perimeter\", \"compactness\", \"length\", \"width\", \"AC\", \"lengthGroove\", \"class\")\n",
    "url = \"https://www.dl.dropboxusercontent.com/s/wrexlo5im3g5ioi/seeds_dataset.csv\"\n",
    "seeds = read.csv(url, header = F, sep=\",\", col.names = columns)\n",
    "seeds$class = factor(seeds$class, levels = c(1,2,3), labels = c(\"Kama\", \"Rosa\", \"Canadian\"))"
   ]
  },
  {
   "cell_type": "markdown",
   "metadata": {},
   "source": [
    "Generalmente para realizar clustering, es necesario escalar los datos. Esto debido a estar ocupando una misma \"regla\" en las mediciones. Los métodos más conocidos para escalar los datos son:\n",
    "- Normalización\n",
    "- Transformación usando cuantiles\n",
    "- Entre otros"
   ]
  },
  {
   "cell_type": "code",
   "execution_count": null,
   "metadata": {},
   "outputs": [],
   "source": [
    "seeds.scaled = scale(seeds[c(1:7)])"
   ]
  },
  {
   "cell_type": "markdown",
   "metadata": {},
   "source": [
    "La idea del clustering es poder encontrar las observaciones más similares entre sí, es por esto que se debe calcular la distancia entre cada una una de las observaciones. Las distancias más conocidas son:\n",
    "- Euclediana\n",
    "- Manhattan\n",
    "- Minkowski\n"
   ]
  },
  {
   "cell_type": "code",
   "execution_count": null,
   "metadata": {},
   "outputs": [],
   "source": [
    "dist.eucl = dist(seeds.scaled, method = \"euclidean\")\n",
    "\n",
    "fviz_dist(dist.eucl)"
   ]
  },
  {
   "cell_type": "markdown",
   "metadata": {},
   "source": [
    "El punto inicial de kmeans es definir un número k de grupos a formar. Para esto, existen distintas formas de encontrar un k a trabajar:\n",
    "\n",
    "- Método del codo.\n",
    "- Método de la silueta.\n",
    "- Metodo de brecha estadística.\n",
    "\n",
    "\n",
    "**Ojo, pestaña, ceja:** el k no debe ser estrictamente igual a la cantidad de clases, agrupamiento es aprendizaje no supervisado.\n",
    "\n",
    "Es probable que los métodos lleguen a distintas conclusiones, todo depende del problema a trabajar. Más información [aquí](https://www.datanovia.com/en/lessons/determining-the-optimal-number-of-clusters-3-must-know-methods/)."
   ]
  },
  {
   "cell_type": "code",
   "execution_count": null,
   "metadata": {},
   "outputs": [],
   "source": [
    "fviz_nbclust(seeds.scaled, kmeans, method = \"wss\")"
   ]
  },
  {
   "cell_type": "code",
   "execution_count": null,
   "metadata": {},
   "outputs": [],
   "source": [
    "fviz_nbclust(seeds.scaled, kmeans, method = \"silhouette\")"
   ]
  },
  {
   "cell_type": "code",
   "execution_count": null,
   "metadata": {
    "scrolled": true
   },
   "outputs": [],
   "source": [
    "fviz_nbclust(seeds.scaled, kmeans, method = \"gap_stat\")"
   ]
  },
  {
   "cell_type": "code",
   "execution_count": null,
   "metadata": {},
   "outputs": [],
   "source": [
    "set.seed(99999)\n",
    "\n",
    "km.res = kmeans(seeds.scaled, 3, nstart = 25)\n",
    "fviz_cluster(km.res, data = seeds.scaled, palette = \"jco\", ggtheme = theme_minimal())"
   ]
  },
  {
   "attachments": {},
   "cell_type": "markdown",
   "metadata": {},
   "source": [
    "Con el k definido, solo queda visualizar los clusters...\n",
    "\n",
    "Inicializacion\n",
    "![image1](https://www.iartificial.net/wp-content/uploads/2020/01/kmeans-inicializacion.webp)\n",
    "\n",
    "Asignacion\n",
    "![image2](https://www.iartificial.net/wp-content/uploads/2020/01/kmeans-asignacion-1.webp)\n",
    "\n",
    "Actualizacion\n",
    "![image3](https://www.iartificial.net/wp-content/uploads/2020/01/kmeans-actualizacion-1.webp)"
   ]
  },
  {
   "cell_type": "code",
   "execution_count": null,
   "metadata": {},
   "outputs": [],
   "source": [
    "km.res"
   ]
  },
  {
   "cell_type": "code",
   "execution_count": null,
   "metadata": {},
   "outputs": [],
   "source": [
    "km.res$cluster"
   ]
  },
  {
   "cell_type": "code",
   "execution_count": null,
   "metadata": {},
   "outputs": [],
   "source": [
    "seeds$km.eucl = km.res$cluster"
   ]
  },
  {
   "cell_type": "code",
   "execution_count": null,
   "metadata": {},
   "outputs": [],
   "source": [
    "set.seed(99999)\n",
    "\n",
    "dist.daisy = daisy(seeds.scaled)\n",
    "dis.matrix.daisy = as.matrix(dist.daisy)\n",
    "km.daisy = kmeans(dis.matrix.daisy, 3)\n",
    "\n",
    "seeds$km.daisy = km.daisy$cluster\n",
    "\n",
    "fviz_cluster(km.daisy, data = seeds.scaled, palette = \"jco\", ggtheme = theme_minimal())"
   ]
  },
  {
   "cell_type": "code",
   "execution_count": null,
   "metadata": {},
   "outputs": [],
   "source": [
    "seeds"
   ]
  },
  {
   "cell_type": "code",
   "execution_count": null,
   "metadata": {},
   "outputs": [],
   "source": [
    "summary(seeds[seeds[\"km.eucl\"] == 1, ])\n",
    "\n",
    "summary(seeds[seeds[\"km.eucl\"] == 2, ])\n",
    "\n",
    "summary(seeds[seeds[\"km.eucl\"] == 3, ])"
   ]
  },
  {
   "cell_type": "code",
   "execution_count": null,
   "metadata": {},
   "outputs": [],
   "source": []
  }
 ],
 "metadata": {
  "kernelspec": {
   "display_name": "R",
   "language": "R",
   "name": "ir"
  },
  "language_info": {
   "codemirror_mode": "r",
   "file_extension": ".r",
   "mimetype": "text/x-r-source",
   "name": "R",
   "pygments_lexer": "r",
   "version": "3.6.1"
  }
 },
 "nbformat": 4,
 "nbformat_minor": 4
}
