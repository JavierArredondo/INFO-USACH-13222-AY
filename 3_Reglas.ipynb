{
 "cells": [
  {
   "cell_type": "markdown",
   "metadata": {},
   "source": [
    "# Reglas de asociación\n",
    "\n",
    "### Librerías a utilizar:\n",
    "\n",
    "- ggpubr\n",
    "- arulesViz\n",
    "\n",
    "### ¿Qué son las reglas de asociación?\n",
    "\n",
    "Las reglas de asociación es una herramienta que goza de gran popularidad para la minería de datos en bases de datos, es una técnica de aprendizaje **no supervisado**. La idea es encontrar valores conjuntos para una serie de características $X = (X_1, X_2, X_3, ..., X_p)$ , la meta es encontrar las más frecuentes. Generalmente se utiliza en en datos con representación binaria (1=está y 0= no está) $X_j \\in \\{0,1\\}$, a esto se le suele llamar *market basket* (canasta de mercado), dado que el problema nace desde el problema de encontrar patrones en bases de datos comerciales. \n",
    "\n",
    "\n",
    "\n",
    "### ¿Cuándo las utilizo?\n",
    "- Cuando quiero encontrar un comportamiento repetitivo en base a la asociación de las características del estudio.\n",
    "- Descubrir un conjunto de hechos en común.\n",
    "- Se quiere conocer relaciones entre las variables.\n",
    "\n",
    "### Historia:\n",
    "\n",
    "> Basado en el concepto de regla fuerte, Agrawal et al.3​ presentaron un trabajo en el que indicaban las reglas de asociación que descubrían las relaciones entre los datos recopilados a gran escala en los sistemas de terminales de punto de venta de unos supermercados (Wikipedia).\n",
    "\n",
    "Un ejemplo de regla sería:\n",
    "\n",
    "$$ cebollas, vegetales => carne$$\n",
    "\n",
    "Con este tipo de regla es posible conocer como se comporta el mercado, por ejemplo podría poner en pasillos cercanos los productos $carne, vegetales$ y $carne$.\n",
    "\n",
    "### Conceptos very importantes\n",
    "\n",
    "- Antecedente: Es la parte izquierda de la regla. Indica que relaciones provocan algo.\n",
    "- Consecuente: Es la parte derecha. Indica la conclusión de la regla.\n",
    "- Soporte: Es una medida de calidad de la regla. Para una regla $A => B$, el soporte es la fracción de observaciones en la unión del antecedente y consecuente.\n",
    "$$ sop(X) = \\frac{X}{D}$$\n",
    "Donde $X$ corresponde a las transacciones y $D$ a la base de datos.\n",
    "\n",
    "- Confianza: Corresponde a otra medida de interés de la regla. Se define como el soporte de la regla dividodo por el soporte del antecedente.\n",
    "$$ conf(A=>B) = \\frac{sop(A => B)}{sop(A)}$$\n",
    "\n",
    "** Algo así como la probabildiad condicional $P(B|A)$.\n",
    "\n",
    "\n",
    "- *Lift*: expresa cuál es la proporción del soporte observado de un conjunto de productos respecto del soporte teórico de ese conjunto dado el supuesto de independencia.\n",
    "\n",
    "    - lift == 1 ? El conjunto aparece una cantidad de veces acorde a lo esperado bajo condiciones de independencia.\n",
    "    - lift > 1 ? Ese conjunto aparece una cantidad de veces superior a lo esperado bajo condiciones de independencia (por lo que se puede intuir que existe una relación que hace que los productos se encuentren en el conjunto más veces de lo normal)\n",
    "    - lift < 1 ? Ese conjunto aparece una cantidad de veces inferior a lo esperado bajo condiciones de independencia (por lo que se puede intuir que existe una relación que hace que los productos no estén formando parte del mismo conjunto más veces de lo normal)\n",
    "\n",
    "$$ lift(A => B) = \\frac{conf(A=>B)}{sop(B)}$$\n",
    "\n",
    "** mide si la regla se debió al azar\n",
    "\n",
    "> Cuanto más se aleje el valor de lift de 1, más evidencias de que la regla no se debe a un artefacto aleatorio, es decir, mayor la evidencia de que la regla representa un patrón real ([Joaquin_AR](https://rpubs.com/Joaquin_AR/397172))\n",
    "\n",
    "### Ejemplito textual:\n",
    "\n",
    "- Se tiene un conjunto $K = \\{mantequilla \\quad de \\quad maní, jalea, pan\\}$\n",
    "- Se tiene una regla *mantequilla de maní*, *jalea* => *pan*\n",
    "- El soporte de la regla es de 0.03 -> esto significa que los elementos aparecen juntos un 3% en la canasta.\n",
    "- La confianza de la regla es de 0.82 -> esto significa que el 82% del tiempo que la mantequilla de maní y jalea fueron comprados, también se compró pan.\n",
    "\n",
    "- Si el pan apareció un 43% del total de canastas, entonces la regla tendría un *lift* de 1.95 ¿qué significa esto?\n",
    "\n"
   ]
  },
  {
   "cell_type": "code",
   "execution_count": null,
   "metadata": {},
   "outputs": [],
   "source": [
    "library(\"ggpubr\")\n",
    "library(\"cowplot\")"
   ]
  },
  {
   "cell_type": "markdown",
   "metadata": {},
   "source": [
    "### Ejemplo: \n",
    "Para el conjunto de datos de [semillas de trigo](https://archive.ics.uci.edu/ml/datasets/seeds) se quiere estudiar reglas de interés que tengan como consecuente la clase.\n",
    "\n",
    "Recordar que el conjunto de datos a explicar está completamente balanceado (misma cantidad de observaciones por clase) y se tienen 7 características continuas (todas positivas)."
   ]
  },
  {
   "cell_type": "code",
   "execution_count": null,
   "metadata": {},
   "outputs": [],
   "source": [
    "columns = c(\"area\", \"perimeter\", \"compactness\", \"length\", \"width\", \"AC\", \"lengthGroove\", \"class\")\n",
    "url = \"https://www.dl.dropboxusercontent.com/s/wrexlo5im3g5ioi/seeds_dataset.csv\"\n",
    "seeds = read.csv(url, header = F, sep=\",\", col.names = columns)\n",
    "seeds$class = factor(seeds$class, levels = c(1,2,3), labels = c(\"Kama\", \"Rosa\", \"Canadian\"))"
   ]
  },
  {
   "cell_type": "code",
   "execution_count": null,
   "metadata": {},
   "outputs": [],
   "source": [
    "head(seeds)"
   ]
  },
  {
   "cell_type": "code",
   "execution_count": null,
   "metadata": {},
   "outputs": [],
   "source": [
    "summary(seeds[seeds$class == \"Kama\",])"
   ]
  },
  {
   "cell_type": "code",
   "execution_count": null,
   "metadata": {},
   "outputs": [],
   "source": [
    "summary(seeds[seeds$class == \"Rosa\",])"
   ]
  },
  {
   "cell_type": "code",
   "execution_count": null,
   "metadata": {},
   "outputs": [],
   "source": [
    "summary(seeds[seeds$class == \"Canadian\",])"
   ]
  },
  {
   "cell_type": "markdown",
   "metadata": {},
   "source": [
    "\n",
    "Al igual que en las experiencias pasadas, para recordar cómo se encuentran las clases en función de sus características, se tiene que:"
   ]
  },
  {
   "cell_type": "code",
   "execution_count": null,
   "metadata": {
    "scrolled": false
   },
   "outputs": [],
   "source": [
    "boxplot.area =  ggboxplot(data = seeds, x = \"class\", y = \"area\", color = \"class\", add = \"jitter\") + border() \n",
    "ydens = axis_canvas(boxplot.area, axis = \"y\", coord_flip = TRUE) + geom_density(data = seeds, aes(x = area, fill = class), alpha = 0.7, size = 0.2) + coord_flip()\n",
    "boxplot.area = insert_yaxis_grob(boxplot.area, ydens, grid::unit(.2, \"null\"), position = \"right\")\n",
    "ggdraw(boxplot.area)\n",
    "\n",
    "# perimeter\n",
    "boxplot.perimeter =  ggboxplot(data = seeds, x = \"class\", y = \"perimeter\", color = \"class\", add= \"jitter\") + border()\n",
    "ydens = axis_canvas(boxplot.perimeter, axis = \"y\", coord_flip = TRUE) + geom_density(data = seeds, aes(x = perimeter, fill = class), alpha = 0.7, size = 0.2) + coord_flip()\n",
    "boxplot.perimeter = insert_yaxis_grob(boxplot.perimeter, ydens, grid::unit(.2, \"null\"), position = \"right\")\n",
    "ggdraw(boxplot.perimeter)\n",
    "\n",
    "# compactness\n",
    "boxplot.compactness =  ggboxplot(data = seeds, x = \"class\", y = \"compactness\", color = \"class\") + border()\n",
    "ydens = axis_canvas(boxplot.compactness, axis = \"y\", coord_flip = TRUE) + geom_density(data = seeds, aes(x = compactness, fill = class), alpha = 0.7, size = 0.2) + coord_flip()\n",
    "boxplot.compactness = insert_yaxis_grob(boxplot.compactness, ydens, grid::unit(.2, \"null\"), position = \"right\")\n",
    "ggdraw(boxplot.compactness)\n",
    "\n",
    "# length\n",
    "boxplot.length =  ggboxplot(data = seeds, x = \"class\", y = \"length\", color = \"class\") + border()\n",
    "ydens = axis_canvas(boxplot.length, axis = \"y\", coord_flip = TRUE) + geom_density(data = seeds, aes(x = length, fill = class), alpha = 0.7, size = 0.2) + coord_flip()\n",
    "boxplot.length = insert_yaxis_grob(boxplot.length, ydens, grid::unit(.2, \"null\"), position = \"right\")\n",
    "ggdraw(boxplot.length)\n",
    "\n",
    "# width\n",
    "boxplot.width =  ggboxplot(data = seeds, x = \"class\", y = \"width\", color = \"class\") + border()\n",
    "ydens = axis_canvas(boxplot.width, axis = \"y\", coord_flip = TRUE) + geom_density(data = seeds, aes(x = width, fill = class), alpha = 0.7, size = 0.2) + coord_flip()\n",
    "boxplot.width = insert_yaxis_grob(boxplot.width, ydens, grid::unit(.2, \"null\"), position = \"right\")\n",
    "ggdraw(boxplot.width)\n",
    "\n",
    "# AC\n",
    "boxplot.AC =  ggboxplot(data = seeds, x = \"class\", y = \"AC\", color = \"class\") + border()\n",
    "ydens = axis_canvas(boxplot.AC, axis = \"y\", coord_flip = TRUE) + geom_density(data = seeds, aes(x = AC, fill = class), alpha = 0.7, size = 0.2) + coord_flip()\n",
    "boxplot.AC = insert_yaxis_grob(boxplot.AC, ydens, grid::unit(.2, \"null\"), position = \"right\")\n",
    "ggdraw(boxplot.AC)\n",
    "\n",
    "# lengthGroove\n",
    "boxplot.lengthGroove =  ggboxplot(data = seeds, x = \"class\", y = \"lengthGroove\", color = \"class\") + border()\n",
    "ydens = axis_canvas(boxplot.lengthGroove, axis = \"y\", coord_flip = TRUE) + geom_density(data = seeds, aes(x = lengthGroove, fill = class), alpha = 0.7, size = 0.2) + coord_flip()\n",
    "boxplot.lengthGroove = insert_yaxis_grob(boxplot.lengthGroove, ydens, grid::unit(.2, \"null\"), position = \"right\")\n",
    "ggdraw(boxplot.lengthGroove)"
   ]
  },
  {
   "cell_type": "markdown",
   "metadata": {},
   "source": [
    "Se logra apreciar que algunas características como el área y perímetro parecen ser un buen discriminador en sus respectivos gráficos. Si vemos como se ve distribuida la clase en estas dos \"dimensiones\" existe una tendencia. ¿A qué se parece esto? (spoiler: clustering)"
   ]
  },
  {
   "cell_type": "code",
   "execution_count": null,
   "metadata": {},
   "outputs": [],
   "source": [
    "ggscatter(data = seeds, x = \"area\", y = \"perimeter\", color = \"class\")"
   ]
  },
  {
   "cell_type": "markdown",
   "metadata": {},
   "source": [
    "## Reglas de asosciación en R\n",
    "Al observar el gráfico anterior podríamos decir a **priori** que la clase Canadian tiene un área pequeña y perímtro pequeño.\n",
    "\n",
    "Dejando de lado ese precario análisis exploratorio (solo repaso), es hora de ver como se ven las reglas de asosiación en R 😬."
   ]
  },
  {
   "cell_type": "code",
   "execution_count": null,
   "metadata": {},
   "outputs": [],
   "source": [
    "library(\"arulesViz\")"
   ]
  },
  {
   "cell_type": "markdown",
   "metadata": {},
   "source": [
    "Primero se debe discretizar los datos a trabajar (para esto deben ver la naturaleza de su problema), en este caso discretizaremos (arbitrariamente) en dos rangos por característica."
   ]
  },
  {
   "cell_type": "code",
   "execution_count": null,
   "metadata": {},
   "outputs": [],
   "source": [
    "seeds.rules = seeds\n",
    "\n",
    "area = c(-Inf, 14.85, Inf)\n",
    "area.names = c(\"Pequeña\", \"Grande\")\n",
    "\n",
    "perimeter = c(-Inf, 14.56, Inf)\n",
    "perimeter.names = c(\"Pequeña\", \"Grande\")\n",
    "\n",
    "compactness = c(-Inf, 0.8710, Inf)\n",
    "compactness.names = c(\"Pequeña\", \"Grande\")\n",
    "\n",
    "lenght = c(-Inf, 5.629, Inf)\n",
    "lenght.names = c(\"Pequeña\", \"Grande\")\n",
    "\n",
    "width = c(-Inf, 3.259, Inf)\n",
    "width.names = c(\"Pequeña\", \"Grande\")\n",
    "\n",
    "ac = c(-Inf, 3.7002, Inf)\n",
    "ac.names = c(\"Pequeña\", \"Grande\")\n",
    "\n",
    "lg = c(-Inf, 5.408, Inf)\n",
    "lg.names = c(\"Pequeña\", \"Grande\")\n",
    "\n",
    "\n",
    "seeds.rules$area = cut(seeds.rules$area, breaks = area, labels = area.names)\n",
    "seeds.rules$perimeter = cut(seeds.rules$perimeter, breaks = perimeter, labels = perimeter.names)\n",
    "seeds.rules$compactness = cut(seeds.rules$compactness, breaks = compactness, labels = compactness.names)\n",
    "seeds.rules$length = cut(seeds.rules$length, breaks = lenght, labels = lenght.names)\n",
    "seeds.rules$width = cut(seeds.rules$width, breaks = width, labels = width.names)\n",
    "seeds.rules$AC = cut(seeds.rules$AC, breaks = ac, labels = ac.names)\n",
    "seeds.rules$lengthGroove = cut(seeds.rules$lengthGroove, breaks = lg, labels = lg.names)"
   ]
  },
  {
   "cell_type": "code",
   "execution_count": null,
   "metadata": {},
   "outputs": [],
   "source": [
    "head(seeds.rules)"
   ]
  },
  {
   "cell_type": "markdown",
   "metadata": {},
   "source": [
    "Recordemos el gráfico de dispersión de [área vs perímetro](#Reglas-de-asosciación-en-R), en donde la premisa era que la clase Canadian tenían un área pequeña y perímetro pequeño. Busquemos este antecedente en el conjunto de datos..."
   ]
  },
  {
   "cell_type": "code",
   "execution_count": null,
   "metadata": {},
   "outputs": [],
   "source": [
    "seeds.rules[seeds.rules$area == \"Pequeña\" &\n",
    "            seeds.rules$perimeter == \"Pequeña\",]"
   ]
  },
  {
   "cell_type": "markdown",
   "metadata": {},
   "source": [
    "Como se logra apreciar, esa premisa resultaba bien solo para el gráfico, pero en realidad para buscar instancias de tipo Canadian existen **reglas** más complejas y necesitamos buscarlas. Para eso utilizamos el algoritmo **apriori**."
   ]
  },
  {
   "cell_type": "code",
   "execution_count": null,
   "metadata": {
    "scrolled": true
   },
   "outputs": [],
   "source": [
    "rules = apriori(\n",
    "    data = seeds.rules, \n",
    "    parameter=list(support = 0.2, minlen = 2, maxlen = 6, target=\"rules\")    \n",
    ")\n",
    "\n",
    "\n",
    "inspect(sort(x = rules, decreasing = TRUE, by = \"confidence\"))"
   ]
  },
  {
   "cell_type": "markdown",
   "metadata": {},
   "source": [
    "## ¿Qué reglas nos interesan para nuestro conjunto de datos?\n",
    "\n",
    "Primero hay que preguntarse si las reglas anteriores son de interés para mi estudio.\n",
    "\n",
    "¿me sirve decir que *{compactness=Pequeña ^ class=Canadian} => {width=Pequeña}*?\n",
    "\n",
    "Filtrarenos para los consecuentes que contemplen la clase..."
   ]
  },
  {
   "cell_type": "code",
   "execution_count": null,
   "metadata": {
    "scrolled": true
   },
   "outputs": [],
   "source": [
    "rules = apriori(\n",
    "    data = seeds.rules, \n",
    "    parameter=list(support = 0.2, minlen = 2, maxlen = 6, target=\"rules\"),\n",
    "    appearance=list(rhs = c(\"class=Canadian\", \"class=Kama\", \"class=Rosa\"))\n",
    ")\n",
    "\n",
    "inspect(sort(x = rules, decreasing = TRUE, by = \"confidence\"))"
   ]
  },
  {
   "cell_type": "markdown",
   "metadata": {},
   "source": [
    "¿Qué nos dice esto?\n",
    "Una serie de reglas para decir si una semilla es de tipo Canadian y nos entrega unas métricas de calidad de las reglas, como:\n",
    "\n",
    "- Support\n",
    "- Lift\n",
    "- Confidence\n",
    "- Coverage\n",
    "\n",
    "```R\n",
    "      lhs                       rhs                support confidence  coverage     lift count\n",
    "[1]   {compactness=Pequeña,                                                                   \n",
    "       length=Pequeña,                                                                        \n",
    "       AC=Grande}            => {class=Canadian} 0,2380952  0,9615385 0,2476190 2,884615    50\n",
    "[2]   {compactness=Pequeña,                                                                   \n",
    "       length=Pequeña,                                                                        \n",
    "       width=Pequeña,                                                                         \n",
    "       AC=Grande}            => {class=Canadian} 0,2380952  0,9615385 0,2476190 2,884615    50\n",
    "[3]   {area=Pequeña,                                                                          \n",
    "       compactness=Pequeña,                                                                   \n",
    "       length=Pequeña,                                                                        \n",
    "       AC=Grande}            => {class=Canadian} 0,2380952  0,9615385 0,2476190 2,884615    50\n",
    "[4]   {perimeter=Pequeña,                                                                     \n",
    "       compactness=Pequeña,                                                                   \n",
    "       length=Pequeña,                                                                        \n",
    "       AC=Grande}            => {class=Canadian} 0,2380952  0,9615385 0,2476190 2,884615    50\n",
    "[5]   {area=Pequeña,                                                                          \n",
    "       compactness=Pequeña,                                                                   \n",
    "       length=Pequeña,                                                                        \n",
    "       width=Pequeña,                                                                         \n",
    "       AC=Grande}            => {class=Canadian} 0,2380952  0,9615385 0,2476190 2,884615    50\n",
    "[6]   {perimeter=Pequeña,                                                                     \n",
    "       compactness=Pequeña,                                                                   \n",
    "       length=Pequeña,                                                                        \n",
    "       width=Pequeña,                                                                         \n",
    "       AC=Grande}            => {class=Canadian} 0,2380952  0,9615385 0,2476190 2,884615    50\n",
    "[7]   {area=Pequeña,                                                                          \n",
    "       perimeter=Pequeña,                                                                     \n",
    "       compactness=Pequeña,                                                                   \n",
    "       length=Pequeña,                                                                        \n",
    "       AC=Grande}            => {class=Canadian} 0,2380952  0,9615385 0,2476190 2,884615    50\n",
    "[8]   {compactness=Pequeña,                                                                   \n",
    "       length=Pequeña,                                                                        \n",
    "       AC=Grande,                                                                             \n",
    "       lengthGroove=Pequeña} => {class=Canadian} 0,2333333  0,9607843 0,2428571 2,882353    49\n",
    "[9]   {compactness=Pequeña,                                                                   \n",
    "       length=Pequeña,                                                                        \n",
    "       width=Pequeña,                                                                         \n",
    "       AC=Grande,                                                                             \n",
    "       lengthGroove=Pequeña} => {class=Canadian} 0,2333333  0,9607843 0,2428571 2,882353    49\n",
    "[10]  {area=Pequeña,                                                                          \n",
    "       compactness=Pequeña,                                                                   \n",
    "       length=Pequeña,                                                                        \n",
    "       AC=Grande,                                                                             \n",
    "       lengthGroove=Pequeña} => {class=Canadian} 0,2333333  0,9607843 0,2428571 2,882353    49\n",
    "\n",
    "\n",
    "```"
   ]
  },
  {
   "cell_type": "markdown",
   "metadata": {},
   "source": [
    "Busquemos una regla en el conjunto de datos:"
   ]
  },
  {
   "cell_type": "code",
   "execution_count": null,
   "metadata": {},
   "outputs": [],
   "source": [
    "seeds.rules[seeds.rules$area == \"Pequeña\" &\n",
    "            seeds.rules$compactness == \"Pequeña\" &\n",
    "            seeds.rules$length == \"Pequeña\" &\n",
    "            seeds.rules$AC == \"Grande\" &\n",
    "            seeds.rules$lengthGroove == \"Pequeña\",]"
   ]
  },
  {
   "cell_type": "code",
   "execution_count": null,
   "metadata": {},
   "outputs": [],
   "source": [
    "seeds.rules[seeds.rules$compactness == \"Pequeña\" &\n",
    "            seeds.rules$length == \"Pequeña\" &\n",
    "            seeds.rules$AC == \"Grande\",]"
   ]
  },
  {
   "cell_type": "code",
   "execution_count": null,
   "metadata": {},
   "outputs": [],
   "source": []
  },
  {
   "cell_type": "code",
   "execution_count": null,
   "metadata": {},
   "outputs": [],
   "source": []
  },
  {
   "cell_type": "code",
   "execution_count": null,
   "metadata": {},
   "outputs": [],
   "source": []
  }
 ],
 "metadata": {
  "kernelspec": {
   "display_name": "R",
   "language": "R",
   "name": "ir"
  },
  "language_info": {
   "codemirror_mode": "r",
   "file_extension": ".r",
   "mimetype": "text/x-r-source",
   "name": "R",
   "pygments_lexer": "r",
   "version": "3.6.1"
  }
 },
 "nbformat": 4,
 "nbformat_minor": 4
}
